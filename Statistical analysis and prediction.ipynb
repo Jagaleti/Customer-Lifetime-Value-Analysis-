{
 "cells": [
  {
   "cell_type": "code",
   "execution_count": 1,
   "id": "4347f2b7",
   "metadata": {},
   "outputs": [],
   "source": [
    "import pandas as pd\n",
    "import numpy as np\n",
    "import seaborn as sns\n",
    "import matplotlib.pyplot as plt\n",
    "import scipy.stats as stats\n",
    "import os\n",
    "import warnings\n",
    "warnings.filterwarnings('ignore')"
   ]
  },
  {
   "cell_type": "code",
   "execution_count": 2,
   "id": "5ab9a435",
   "metadata": {},
   "outputs": [],
   "source": [
    "os.chdir('C:\\\\Users\\\\\\jagal\\\\Downloads')"
   ]
  },
  {
   "cell_type": "code",
   "execution_count": 3,
   "id": "9898aea3",
   "metadata": {},
   "outputs": [],
   "source": [
    "df=pd.read_csv('Fn-UseC_-Marketing-Customer-Value-Analysis.csv')"
   ]
  },
  {
   "cell_type": "code",
   "execution_count": 4,
   "id": "632849de",
   "metadata": {},
   "outputs": [
    {
     "data": {
      "text/html": [
       "<div>\n",
       "<style scoped>\n",
       "    .dataframe tbody tr th:only-of-type {\n",
       "        vertical-align: middle;\n",
       "    }\n",
       "\n",
       "    .dataframe tbody tr th {\n",
       "        vertical-align: top;\n",
       "    }\n",
       "\n",
       "    .dataframe thead th {\n",
       "        text-align: right;\n",
       "    }\n",
       "</style>\n",
       "<table border=\"1\" class=\"dataframe\">\n",
       "  <thead>\n",
       "    <tr style=\"text-align: right;\">\n",
       "      <th></th>\n",
       "      <th>Customer</th>\n",
       "      <th>State</th>\n",
       "      <th>Customer Lifetime Value</th>\n",
       "      <th>Response</th>\n",
       "      <th>Coverage</th>\n",
       "      <th>Education</th>\n",
       "      <th>Effective To Date</th>\n",
       "      <th>EmploymentStatus</th>\n",
       "      <th>Gender</th>\n",
       "      <th>Income</th>\n",
       "      <th>...</th>\n",
       "      <th>Months Since Policy Inception</th>\n",
       "      <th>Number of Open Complaints</th>\n",
       "      <th>Number of Policies</th>\n",
       "      <th>Policy Type</th>\n",
       "      <th>Policy</th>\n",
       "      <th>Renew Offer Type</th>\n",
       "      <th>Sales Channel</th>\n",
       "      <th>Total Claim Amount</th>\n",
       "      <th>Vehicle Class</th>\n",
       "      <th>Vehicle Size</th>\n",
       "    </tr>\n",
       "  </thead>\n",
       "  <tbody>\n",
       "    <tr>\n",
       "      <th>0</th>\n",
       "      <td>BU79786</td>\n",
       "      <td>Washington</td>\n",
       "      <td>2763.519279</td>\n",
       "      <td>No</td>\n",
       "      <td>Basic</td>\n",
       "      <td>Bachelor</td>\n",
       "      <td>2/24/11</td>\n",
       "      <td>Employed</td>\n",
       "      <td>F</td>\n",
       "      <td>56274</td>\n",
       "      <td>...</td>\n",
       "      <td>5</td>\n",
       "      <td>0</td>\n",
       "      <td>1</td>\n",
       "      <td>Corporate Auto</td>\n",
       "      <td>Corporate L3</td>\n",
       "      <td>Offer1</td>\n",
       "      <td>Agent</td>\n",
       "      <td>384.811147</td>\n",
       "      <td>Two-Door Car</td>\n",
       "      <td>Medsize</td>\n",
       "    </tr>\n",
       "    <tr>\n",
       "      <th>1</th>\n",
       "      <td>QZ44356</td>\n",
       "      <td>Arizona</td>\n",
       "      <td>6979.535903</td>\n",
       "      <td>No</td>\n",
       "      <td>Extended</td>\n",
       "      <td>Bachelor</td>\n",
       "      <td>1/31/11</td>\n",
       "      <td>Unemployed</td>\n",
       "      <td>F</td>\n",
       "      <td>0</td>\n",
       "      <td>...</td>\n",
       "      <td>42</td>\n",
       "      <td>0</td>\n",
       "      <td>8</td>\n",
       "      <td>Personal Auto</td>\n",
       "      <td>Personal L3</td>\n",
       "      <td>Offer3</td>\n",
       "      <td>Agent</td>\n",
       "      <td>1131.464935</td>\n",
       "      <td>Four-Door Car</td>\n",
       "      <td>Medsize</td>\n",
       "    </tr>\n",
       "    <tr>\n",
       "      <th>2</th>\n",
       "      <td>AI49188</td>\n",
       "      <td>Nevada</td>\n",
       "      <td>12887.431650</td>\n",
       "      <td>No</td>\n",
       "      <td>Premium</td>\n",
       "      <td>Bachelor</td>\n",
       "      <td>2/19/11</td>\n",
       "      <td>Employed</td>\n",
       "      <td>F</td>\n",
       "      <td>48767</td>\n",
       "      <td>...</td>\n",
       "      <td>38</td>\n",
       "      <td>0</td>\n",
       "      <td>2</td>\n",
       "      <td>Personal Auto</td>\n",
       "      <td>Personal L3</td>\n",
       "      <td>Offer1</td>\n",
       "      <td>Agent</td>\n",
       "      <td>566.472247</td>\n",
       "      <td>Two-Door Car</td>\n",
       "      <td>Medsize</td>\n",
       "    </tr>\n",
       "    <tr>\n",
       "      <th>3</th>\n",
       "      <td>WW63253</td>\n",
       "      <td>California</td>\n",
       "      <td>7645.861827</td>\n",
       "      <td>No</td>\n",
       "      <td>Basic</td>\n",
       "      <td>Bachelor</td>\n",
       "      <td>1/20/11</td>\n",
       "      <td>Unemployed</td>\n",
       "      <td>M</td>\n",
       "      <td>0</td>\n",
       "      <td>...</td>\n",
       "      <td>65</td>\n",
       "      <td>0</td>\n",
       "      <td>7</td>\n",
       "      <td>Corporate Auto</td>\n",
       "      <td>Corporate L2</td>\n",
       "      <td>Offer1</td>\n",
       "      <td>Call Center</td>\n",
       "      <td>529.881344</td>\n",
       "      <td>SUV</td>\n",
       "      <td>Medsize</td>\n",
       "    </tr>\n",
       "    <tr>\n",
       "      <th>4</th>\n",
       "      <td>HB64268</td>\n",
       "      <td>Washington</td>\n",
       "      <td>2813.692575</td>\n",
       "      <td>No</td>\n",
       "      <td>Basic</td>\n",
       "      <td>Bachelor</td>\n",
       "      <td>2/3/11</td>\n",
       "      <td>Employed</td>\n",
       "      <td>M</td>\n",
       "      <td>43836</td>\n",
       "      <td>...</td>\n",
       "      <td>44</td>\n",
       "      <td>0</td>\n",
       "      <td>1</td>\n",
       "      <td>Personal Auto</td>\n",
       "      <td>Personal L1</td>\n",
       "      <td>Offer1</td>\n",
       "      <td>Agent</td>\n",
       "      <td>138.130879</td>\n",
       "      <td>Four-Door Car</td>\n",
       "      <td>Medsize</td>\n",
       "    </tr>\n",
       "  </tbody>\n",
       "</table>\n",
       "<p>5 rows × 24 columns</p>\n",
       "</div>"
      ],
      "text/plain": [
       "  Customer       State  Customer Lifetime Value Response  Coverage Education  \\\n",
       "0  BU79786  Washington              2763.519279       No     Basic  Bachelor   \n",
       "1  QZ44356     Arizona              6979.535903       No  Extended  Bachelor   \n",
       "2  AI49188      Nevada             12887.431650       No   Premium  Bachelor   \n",
       "3  WW63253  California              7645.861827       No     Basic  Bachelor   \n",
       "4  HB64268  Washington              2813.692575       No     Basic  Bachelor   \n",
       "\n",
       "  Effective To Date EmploymentStatus Gender  Income  ...  \\\n",
       "0           2/24/11         Employed      F   56274  ...   \n",
       "1           1/31/11       Unemployed      F       0  ...   \n",
       "2           2/19/11         Employed      F   48767  ...   \n",
       "3           1/20/11       Unemployed      M       0  ...   \n",
       "4            2/3/11         Employed      M   43836  ...   \n",
       "\n",
       "  Months Since Policy Inception Number of Open Complaints  Number of Policies  \\\n",
       "0                             5                         0                   1   \n",
       "1                            42                         0                   8   \n",
       "2                            38                         0                   2   \n",
       "3                            65                         0                   7   \n",
       "4                            44                         0                   1   \n",
       "\n",
       "      Policy Type        Policy  Renew Offer Type  Sales Channel  \\\n",
       "0  Corporate Auto  Corporate L3            Offer1          Agent   \n",
       "1   Personal Auto   Personal L3            Offer3          Agent   \n",
       "2   Personal Auto   Personal L3            Offer1          Agent   \n",
       "3  Corporate Auto  Corporate L2            Offer1    Call Center   \n",
       "4   Personal Auto   Personal L1            Offer1          Agent   \n",
       "\n",
       "  Total Claim Amount  Vehicle Class Vehicle Size  \n",
       "0         384.811147   Two-Door Car      Medsize  \n",
       "1        1131.464935  Four-Door Car      Medsize  \n",
       "2         566.472247   Two-Door Car      Medsize  \n",
       "3         529.881344            SUV      Medsize  \n",
       "4         138.130879  Four-Door Car      Medsize  \n",
       "\n",
       "[5 rows x 24 columns]"
      ]
     },
     "execution_count": 4,
     "metadata": {},
     "output_type": "execute_result"
    }
   ],
   "source": [
    "df.head()"
   ]
  },
  {
   "cell_type": "code",
   "execution_count": 5,
   "id": "8ac25723",
   "metadata": {},
   "outputs": [],
   "source": [
    "df.rename(columns={'Customer Lifetime Value':'CLV'},inplace=True)"
   ]
  },
  {
   "cell_type": "code",
   "execution_count": 6,
   "id": "0480ab34",
   "metadata": {},
   "outputs": [
    {
     "data": {
      "text/plain": [
       "<bound method DataFrame.info of      Customer       State           CLV Response  Coverage Education  \\\n",
       "0     BU79786  Washington   2763.519279       No     Basic  Bachelor   \n",
       "1     QZ44356     Arizona   6979.535903       No  Extended  Bachelor   \n",
       "2     AI49188      Nevada  12887.431650       No   Premium  Bachelor   \n",
       "3     WW63253  California   7645.861827       No     Basic  Bachelor   \n",
       "4     HB64268  Washington   2813.692575       No     Basic  Bachelor   \n",
       "...       ...         ...           ...      ...       ...       ...   \n",
       "9129  LA72316  California  23405.987980       No     Basic  Bachelor   \n",
       "9130  PK87824  California   3096.511217      Yes  Extended   College   \n",
       "9131  TD14365  California   8163.890428       No  Extended  Bachelor   \n",
       "9132  UP19263  California   7524.442436       No  Extended   College   \n",
       "9133  Y167826  California   2611.836866       No  Extended   College   \n",
       "\n",
       "     Effective To Date EmploymentStatus Gender  Income  ...  \\\n",
       "0              2/24/11         Employed      F   56274  ...   \n",
       "1              1/31/11       Unemployed      F       0  ...   \n",
       "2              2/19/11         Employed      F   48767  ...   \n",
       "3              1/20/11       Unemployed      M       0  ...   \n",
       "4               2/3/11         Employed      M   43836  ...   \n",
       "...                ...              ...    ...     ...  ...   \n",
       "9129           2/10/11         Employed      M   71941  ...   \n",
       "9130           2/12/11         Employed      F   21604  ...   \n",
       "9131            2/6/11       Unemployed      M       0  ...   \n",
       "9132            2/3/11         Employed      M   21941  ...   \n",
       "9133           2/14/11       Unemployed      M       0  ...   \n",
       "\n",
       "     Months Since Policy Inception Number of Open Complaints  \\\n",
       "0                                5                         0   \n",
       "1                               42                         0   \n",
       "2                               38                         0   \n",
       "3                               65                         0   \n",
       "4                               44                         0   \n",
       "...                            ...                       ...   \n",
       "9129                            89                         0   \n",
       "9130                            28                         0   \n",
       "9131                            37                         3   \n",
       "9132                             3                         0   \n",
       "9133                            90                         0   \n",
       "\n",
       "      Number of Policies     Policy Type        Policy  Renew Offer Type  \\\n",
       "0                      1  Corporate Auto  Corporate L3            Offer1   \n",
       "1                      8   Personal Auto   Personal L3            Offer3   \n",
       "2                      2   Personal Auto   Personal L3            Offer1   \n",
       "3                      7  Corporate Auto  Corporate L2            Offer1   \n",
       "4                      1   Personal Auto   Personal L1            Offer1   \n",
       "...                  ...             ...           ...               ...   \n",
       "9129                   2   Personal Auto   Personal L1            Offer2   \n",
       "9130                   1  Corporate Auto  Corporate L3            Offer1   \n",
       "9131                   2  Corporate Auto  Corporate L2            Offer1   \n",
       "9132                   3   Personal Auto   Personal L2            Offer3   \n",
       "9133                   1  Corporate Auto  Corporate L3            Offer4   \n",
       "\n",
       "      Sales Channel Total Claim Amount  Vehicle Class Vehicle Size  \n",
       "0             Agent         384.811147   Two-Door Car      Medsize  \n",
       "1             Agent        1131.464935  Four-Door Car      Medsize  \n",
       "2             Agent         566.472247   Two-Door Car      Medsize  \n",
       "3       Call Center         529.881344            SUV      Medsize  \n",
       "4             Agent         138.130879  Four-Door Car      Medsize  \n",
       "...             ...                ...            ...          ...  \n",
       "9129            Web         198.234764  Four-Door Car      Medsize  \n",
       "9130         Branch         379.200000  Four-Door Car      Medsize  \n",
       "9131         Branch         790.784983  Four-Door Car      Medsize  \n",
       "9132         Branch         691.200000  Four-Door Car        Large  \n",
       "9133    Call Center         369.600000   Two-Door Car      Medsize  \n",
       "\n",
       "[9134 rows x 24 columns]>"
      ]
     },
     "execution_count": 6,
     "metadata": {},
     "output_type": "execute_result"
    }
   ],
   "source": [
    "df.info"
   ]
  },
  {
   "cell_type": "code",
   "execution_count": 7,
   "id": "c1c2ac25",
   "metadata": {},
   "outputs": [],
   "source": [
    "numerical_cols = df.select_dtypes(include=[\"int64\",\"float64\"])"
   ]
  },
  {
   "cell_type": "code",
   "execution_count": 8,
   "id": "dcc5bca5",
   "metadata": {},
   "outputs": [
    {
     "data": {
      "text/plain": [
       "Index(['CLV', 'Income', 'Monthly Premium Auto', 'Months Since Last Claim',\n",
       "       'Months Since Policy Inception', 'Number of Open Complaints',\n",
       "       'Number of Policies', 'Total Claim Amount'],\n",
       "      dtype='object')"
      ]
     },
     "execution_count": 8,
     "metadata": {},
     "output_type": "execute_result"
    }
   ],
   "source": [
    "numerical_cols.columns"
   ]
  },
  {
   "cell_type": "code",
   "execution_count": 9,
   "id": "b58df702",
   "metadata": {},
   "outputs": [],
   "source": [
    "numerical_cols = numerical_cols.drop([\"Number of Policies\",\"Number of Open Complaints\"],axis=1)"
   ]
  },
  {
   "cell_type": "markdown",
   "id": "d8ba8dce",
   "metadata": {},
   "source": [
    "# Summary Statistics of Numerical features"
   ]
  },
  {
   "cell_type": "code",
   "execution_count": 10,
   "id": "c894640e",
   "metadata": {},
   "outputs": [
    {
     "data": {
      "text/html": [
       "<div>\n",
       "<style scoped>\n",
       "    .dataframe tbody tr th:only-of-type {\n",
       "        vertical-align: middle;\n",
       "    }\n",
       "\n",
       "    .dataframe tbody tr th {\n",
       "        vertical-align: top;\n",
       "    }\n",
       "\n",
       "    .dataframe thead th {\n",
       "        text-align: right;\n",
       "    }\n",
       "</style>\n",
       "<table border=\"1\" class=\"dataframe\">\n",
       "  <thead>\n",
       "    <tr style=\"text-align: right;\">\n",
       "      <th></th>\n",
       "      <th>CLV</th>\n",
       "      <th>Income</th>\n",
       "      <th>Monthly Premium Auto</th>\n",
       "      <th>Months Since Last Claim</th>\n",
       "      <th>Months Since Policy Inception</th>\n",
       "      <th>Total Claim Amount</th>\n",
       "    </tr>\n",
       "  </thead>\n",
       "  <tbody>\n",
       "    <tr>\n",
       "      <th>count</th>\n",
       "      <td>9134.000000</td>\n",
       "      <td>9134.000000</td>\n",
       "      <td>9134.000000</td>\n",
       "      <td>9134.000000</td>\n",
       "      <td>9134.000000</td>\n",
       "      <td>9134.000000</td>\n",
       "    </tr>\n",
       "    <tr>\n",
       "      <th>mean</th>\n",
       "      <td>8004.940475</td>\n",
       "      <td>37657.380009</td>\n",
       "      <td>93.219291</td>\n",
       "      <td>15.097000</td>\n",
       "      <td>48.064594</td>\n",
       "      <td>434.088794</td>\n",
       "    </tr>\n",
       "    <tr>\n",
       "      <th>std</th>\n",
       "      <td>6870.967608</td>\n",
       "      <td>30379.904734</td>\n",
       "      <td>34.407967</td>\n",
       "      <td>10.073257</td>\n",
       "      <td>27.905991</td>\n",
       "      <td>290.500092</td>\n",
       "    </tr>\n",
       "    <tr>\n",
       "      <th>min</th>\n",
       "      <td>1898.007675</td>\n",
       "      <td>0.000000</td>\n",
       "      <td>61.000000</td>\n",
       "      <td>0.000000</td>\n",
       "      <td>0.000000</td>\n",
       "      <td>0.099007</td>\n",
       "    </tr>\n",
       "    <tr>\n",
       "      <th>25%</th>\n",
       "      <td>3994.251794</td>\n",
       "      <td>0.000000</td>\n",
       "      <td>68.000000</td>\n",
       "      <td>6.000000</td>\n",
       "      <td>24.000000</td>\n",
       "      <td>272.258244</td>\n",
       "    </tr>\n",
       "    <tr>\n",
       "      <th>50%</th>\n",
       "      <td>5780.182197</td>\n",
       "      <td>33889.500000</td>\n",
       "      <td>83.000000</td>\n",
       "      <td>14.000000</td>\n",
       "      <td>48.000000</td>\n",
       "      <td>383.945434</td>\n",
       "    </tr>\n",
       "    <tr>\n",
       "      <th>75%</th>\n",
       "      <td>8962.167041</td>\n",
       "      <td>62320.000000</td>\n",
       "      <td>109.000000</td>\n",
       "      <td>23.000000</td>\n",
       "      <td>71.000000</td>\n",
       "      <td>547.514839</td>\n",
       "    </tr>\n",
       "    <tr>\n",
       "      <th>max</th>\n",
       "      <td>83325.381190</td>\n",
       "      <td>99981.000000</td>\n",
       "      <td>298.000000</td>\n",
       "      <td>35.000000</td>\n",
       "      <td>99.000000</td>\n",
       "      <td>2893.239678</td>\n",
       "    </tr>\n",
       "  </tbody>\n",
       "</table>\n",
       "</div>"
      ],
      "text/plain": [
       "                CLV        Income  Monthly Premium Auto  \\\n",
       "count   9134.000000   9134.000000           9134.000000   \n",
       "mean    8004.940475  37657.380009             93.219291   \n",
       "std     6870.967608  30379.904734             34.407967   \n",
       "min     1898.007675      0.000000             61.000000   \n",
       "25%     3994.251794      0.000000             68.000000   \n",
       "50%     5780.182197  33889.500000             83.000000   \n",
       "75%     8962.167041  62320.000000            109.000000   \n",
       "max    83325.381190  99981.000000            298.000000   \n",
       "\n",
       "       Months Since Last Claim  Months Since Policy Inception  \\\n",
       "count              9134.000000                    9134.000000   \n",
       "mean                 15.097000                      48.064594   \n",
       "std                  10.073257                      27.905991   \n",
       "min                   0.000000                       0.000000   \n",
       "25%                   6.000000                      24.000000   \n",
       "50%                  14.000000                      48.000000   \n",
       "75%                  23.000000                      71.000000   \n",
       "max                  35.000000                      99.000000   \n",
       "\n",
       "       Total Claim Amount  \n",
       "count         9134.000000  \n",
       "mean           434.088794  \n",
       "std            290.500092  \n",
       "min              0.099007  \n",
       "25%            272.258244  \n",
       "50%            383.945434  \n",
       "75%            547.514839  \n",
       "max           2893.239678  "
      ]
     },
     "execution_count": 10,
     "metadata": {},
     "output_type": "execute_result"
    }
   ],
   "source": [
    "numerical_cols.describe()"
   ]
  },
  {
   "cell_type": "code",
   "execution_count": 11,
   "id": "7f6d59fe",
   "metadata": {},
   "outputs": [],
   "source": [
    "cat_cols = df.select_dtypes(include=\"object\")\n",
    "no_col = df[[\"Number of Open Complaints\",\"Number of Policies\"]]\n",
    "cat_cols = pd.concat([cat_cols,no_col],axis=1)\n",
    "cat_cols.drop(\"Effective To Date\",axis=1,inplace=True)"
   ]
  },
  {
   "cell_type": "markdown",
   "id": "e4eaed34",
   "metadata": {},
   "source": [
    "# Statistical Significance"
   ]
  },
  {
   "cell_type": "markdown",
   "id": "fd878282",
   "metadata": {},
   "source": [
    "H0:The null hypothesis of the test is the data is normally distributed. HA:The data is not normally distributed"
   ]
  },
  {
   "cell_type": "code",
   "execution_count": 12,
   "id": "58048f77",
   "metadata": {},
   "outputs": [
    {
     "data": {
      "text/plain": [
       "ShapiroResult(statistic=0.7033725380897522, pvalue=0.0)"
      ]
     },
     "execution_count": 12,
     "metadata": {},
     "output_type": "execute_result"
    }
   ],
   "source": [
    "stats.shapiro(df['CLV'])"
   ]
  },
  {
   "cell_type": "markdown",
   "id": "82f88b0e",
   "metadata": {},
   "source": [
    "p-value less than 0.05 indicates that the data are not normally distributed, so we reject the null hypothesis. Since the dependent variable does not follow a normal distribution, we will conduct non-parametric tests."
   ]
  },
  {
   "cell_type": "code",
   "execution_count": 13,
   "id": "603a2eb5",
   "metadata": {},
   "outputs": [
    {
     "data": {
      "text/plain": [
       "['Customer',\n",
       " 'State',\n",
       " 'Response',\n",
       " 'Coverage',\n",
       " 'Education',\n",
       " 'EmploymentStatus',\n",
       " 'Gender',\n",
       " 'Location Code',\n",
       " 'Marital Status',\n",
       " 'Policy Type',\n",
       " 'Policy',\n",
       " 'Renew Offer Type',\n",
       " 'Sales Channel',\n",
       " 'Vehicle Class',\n",
       " 'Vehicle Size',\n",
       " 'Number of Open Complaints',\n",
       " 'Number of Policies']"
      ]
     },
     "execution_count": 13,
     "metadata": {},
     "output_type": "execute_result"
    }
   ],
   "source": [
    "columns_cat = list(cat_cols.columns)\n",
    "columns_cat"
   ]
  },
  {
   "cell_type": "code",
   "execution_count": 14,
   "id": "7f7d8f58",
   "metadata": {},
   "outputs": [
    {
     "name": "stdout",
     "output_type": "stream",
     "text": [
      "Anova: ['Customer', 'State', 'Coverage', 'Education', 'EmploymentStatus', 'Location Code', 'Marital Status', 'Policy Type', 'Policy', 'Renew Offer Type', 'Sales Channel', 'Vehicle Class', 'Vehicle Size', 'Number of Open Complaints', 'Number of Policies']\n",
      "TTest: ['Response', 'Gender']\n"
     ]
    }
   ],
   "source": [
    "manwhiteneyy = []\n",
    "anova = []\n",
    "\n",
    "for i in columns_cat:\n",
    "    if (df[i].nunique()>2):\n",
    "        anova.append(i)\n",
    "    else:\n",
    "        manwhiteneyy.append(i)\n",
    "print(\"Anova:\",anova)\n",
    "print(\"TTest:\",manwhiteneyy)"
   ]
  },
  {
   "cell_type": "markdown",
   "id": "b7e10e34",
   "metadata": {},
   "source": [
    "H0, the distributions of both populations are equal The alternative hypothesis H1 is that the distributions are not equal."
   ]
  },
  {
   "cell_type": "code",
   "execution_count": 16,
   "id": "98a022bc",
   "metadata": {},
   "outputs": [],
   "source": [
    "yes=df[df['Response']=='No']['CLV']\n",
    "no=df[df['Response']=='Yes']['CLV']"
   ]
  },
  {
   "cell_type": "code",
   "execution_count": 17,
   "id": "621b2d55",
   "metadata": {},
   "outputs": [
    {
     "data": {
      "text/plain": [
       "<AxesSubplot:xlabel='CLV', ylabel='Density'>"
      ]
     },
     "execution_count": 17,
     "metadata": {},
     "output_type": "execute_result"
    },
    {
     "data": {
      "image/png": "[encoded data removed]",
      "text/plain": [
       "<Figure size 640x480 with 1 Axes>"
      ]
     },
     "metadata": {},
     "output_type": "display_data"
    }
   ],
   "source": [
    "sns.distplot(yes)\n",
    "sns.distplot(no)"
   ]
  },
  {
   "cell_type": "markdown",
   "id": "2ef00a9e",
   "metadata": {},
   "source": [
    "The mean rank will be the same if the distributions are the same, which is the Mann-Whitney U test's null hypothesis."
   ]
  },
  {
   "cell_type": "code",
   "execution_count": 18,
   "id": "b1bdd8c7",
   "metadata": {},
   "outputs": [
    {
     "name": "stdout",
     "output_type": "stream",
     "text": [
      "MannwhitneyuResult(statistic=5175420.0, pvalue=0.5168872245291198)\n"
     ]
    }
   ],
   "source": [
    "f = stats.mannwhitneyu(yes,no)\n",
    "print(f)"
   ]
  },
  {
   "cell_type": "markdown",
   "id": "044c7875",
   "metadata": {},
   "source": [
    "If the p-value is greater than 0.05, we failed to reject the null hypothesis, which states that males and females will have the same mean rank."
   ]
  },
  {
   "cell_type": "code",
   "execution_count": 19,
   "id": "f8efc7c8",
   "metadata": {},
   "outputs": [],
   "source": [
    "male=df[df['Gender']=='M']['CLV']\n",
    "female=df[df['Gender']=='F']['CLV']"
   ]
  },
  {
   "cell_type": "code",
   "execution_count": 20,
   "id": "0ad701cd",
   "metadata": {},
   "outputs": [
    {
     "name": "stdout",
     "output_type": "stream",
     "text": [
      "MannwhitneyuResult(statistic=10337134.0, pvalue=0.48749303056449833)\n"
     ]
    }
   ],
   "source": [
    "b =stats.mannwhitneyu(male,female)\n",
    "print(b)"
   ]
  },
  {
   "cell_type": "markdown",
   "id": "a6c3f52d",
   "metadata": {},
   "source": [
    "If the p-value is greater than 0.05, we failed to reject the null hypothesis, which states that males and females will have the same mean rank.\n",
    "\n",
    "Using a non-parametric unpaired t test, we determined that the above two features are not significant for predicting traget."
   ]
  },
  {
   "cell_type": "markdown",
   "id": "80a6ff75",
   "metadata": {},
   "source": [
    "H0:the mean ranks of the groups are the same.\n",
    "H1:the mean ranks of the groups are not the same."
   ]
  },
  {
   "cell_type": "code",
   "execution_count": 22,
   "id": "812a64ef",
   "metadata": {},
   "outputs": [],
   "source": [
    "ca=df[df['State']=='California']['CLV']\n",
    "Or=df[df['State']=='Oregon']['CLV']\n",
    "Ar=df[df['State']=='Arizona']['CLV']\n",
    "Ne=df[df['State']=='Nevada']['CLV']\n",
    "Wa=df[df['State']=='Washington']['CLV']"
   ]
  },
  {
   "cell_type": "code",
   "execution_count": 23,
   "id": "a97e082b",
   "metadata": {},
   "outputs": [
    {
     "name": "stdout",
     "output_type": "stream",
     "text": [
      "KruskalResult(statistic=5.072069583836472, pvalue=0.27998232358818953)\n"
     ]
    }
   ],
   "source": [
    "a = stats.kruskal(ca,Or,Ar,Ne,Wa)\n",
    "print(a)"
   ]
  },
  {
   "cell_type": "markdown",
   "id": "b20a63be",
   "metadata": {},
   "source": [
    "p-value > 0.05 failed to reject H0"
   ]
  },
  {
   "cell_type": "code",
   "execution_count": 25,
   "id": "7e4d652d",
   "metadata": {},
   "outputs": [
    {
     "name": "stdout",
     "output_type": "stream",
     "text": [
      "MannwhitneyuResult(statistic=10337134.0, pvalue=0.48749303056449833)\n"
     ]
    }
   ],
   "source": [
    "stats.f_oneway(ca,Or,Ar,Ne,Wa)\n",
    "print(b)"
   ]
  },
  {
   "cell_type": "code",
   "execution_count": 26,
   "id": "30e89da0",
   "metadata": {},
   "outputs": [],
   "source": [
    "# df.rename(columns={'CLV':'CLV'},inplace=True)\n",
    "Ba=df[df['Coverage']=='Basic']['CLV']\n",
    "Ex=df[df['Coverage']=='Extended']['CLV']\n",
    "Pr=df[df['Coverage']=='Premium']['CLV']"
   ]
  },
  {
   "cell_type": "code",
   "execution_count": 27,
   "id": "20189fa0",
   "metadata": {},
   "outputs": [
    {
     "data": {
      "image/png": "[encoded data removed]",
      "text/plain": [
       "<Figure size 640x480 with 1 Axes>"
      ]
     },
     "metadata": {},
     "output_type": "display_data"
    }
   ],
   "source": [
    "sns.distplot(Ba,hist=False,label='Basic')\n",
    "sns.distplot(Ex,hist=False)\n",
    "sns.distplot(Pr,hist=False)\n",
    "plt.show()"
   ]
  },
  {
   "cell_type": "code",
   "execution_count": 28,
   "id": "2579a910",
   "metadata": {},
   "outputs": [
    {
     "name": "stdout",
     "output_type": "stream",
     "text": [
      "KruskalResult(statistic=502.4996090762843, pvalue=7.648852917746348e-110)\n"
     ]
    }
   ],
   "source": [
    "c =stats.kruskal(Ba,Ex,Pr)\n",
    "print(c)"
   ]
  },
  {
   "cell_type": "markdown",
   "id": "1a5f2160",
   "metadata": {},
   "source": [
    "p-value < 0.05 to reject H0"
   ]
  },
  {
   "cell_type": "code",
   "execution_count": 29,
   "id": "d550d27d",
   "metadata": {},
   "outputs": [
    {
     "data": {
      "text/plain": [
       "F_onewayResult(statistic=133.67511419504905, pvalue=6.0158970099807e-58)"
      ]
     },
     "execution_count": 29,
     "metadata": {},
     "output_type": "execute_result"
    }
   ],
   "source": [
    "stats.f_oneway(Ba,Ex,Pr)"
   ]
  },
  {
   "cell_type": "code",
   "execution_count": 30,
   "id": "f61fc6df",
   "metadata": {},
   "outputs": [],
   "source": [
    "Ba=df[df['Education']=='Bachelor']['CLV']\n",
    "Co=df[df['Education']=='College']['CLV']\n",
    "Hi=df[df['Education']=='High School or Below']['CLV']\n",
    "Ma=df[df['Education']=='Master']['CLV']\n",
    "Da=df[df['Education']=='Doctor']['CLV']"
   ]
  },
  {
   "cell_type": "code",
   "execution_count": 31,
   "id": "787f7d15",
   "metadata": {},
   "outputs": [
    {
     "name": "stdout",
     "output_type": "stream",
     "text": [
      "KruskalResult(statistic=12.234061758188824, pvalue=0.015693004298603028)\n"
     ]
    }
   ],
   "source": [
    "d= stats.kruskal(Ba,Co,Hi,Ma,Da)\n",
    "print(d)"
   ]
  },
  {
   "cell_type": "code",
   "execution_count": 32,
   "id": "499c0709",
   "metadata": {},
   "outputs": [
    {
     "data": {
      "image/png": "[encoded data removed]",
      "text/plain": [
       "<Figure size 1500x500 with 1 Axes>"
      ]
     },
     "metadata": {},
     "output_type": "display_data"
    }
   ],
   "source": [
    "plt.figure(figsize=(15,5))\n",
    "sns.distplot(Ba,hist=False,label='Bachelor')\n",
    "sns.distplot(Co,hist=False,label='College')\n",
    "sns.distplot(Hi,hist=False,label='High School or Below')\n",
    "sns.distplot(Ma,hist=False,label='Master')\n",
    "sns.distplot(Da,hist=False,label='Doctor')\n",
    "plt.title(\"Different Education level comparsion with CLV\")\n",
    "# plt.savefig(\"Education.png\")\n",
    "plt.show()"
   ]
  },
  {
   "cell_type": "markdown",
   "id": "97da5d9c",
   "metadata": {},
   "source": [
    "p-value < 0.05 reject H0, Education is significant in predicting CLV"
   ]
  },
  {
   "cell_type": "code",
   "execution_count": 33,
   "id": "0b446e69",
   "metadata": {},
   "outputs": [],
   "source": [
    "Ba=df[df['EmploymentStatus']=='Employed']['CLV']\n",
    "Co=df[df['EmploymentStatus']=='Unemployed']['CLV']\n",
    "Hi=df[df['EmploymentStatus']=='Medical Leave']['CLV']\n",
    "Ma=df[df['EmploymentStatus']=='Disabled']['CLV']\n",
    "Da=df[df['EmploymentStatus']=='Retired']['CLV']"
   ]
  },
  {
   "cell_type": "code",
   "execution_count": 34,
   "id": "dfd76879",
   "metadata": {},
   "outputs": [
    {
     "name": "stdout",
     "output_type": "stream",
     "text": [
      "KruskalResult(statistic=42.56159302970864, pvalue=1.2758458797542519e-08)\n"
     ]
    }
   ],
   "source": [
    "e = stats.kruskal(Ba,Co,Hi,Ma,Da)\n",
    "print(e)"
   ]
  },
  {
   "cell_type": "markdown",
   "id": "49ece0ac",
   "metadata": {},
   "source": [
    "p-value < 0.05 reject H0, EmploymentStatus is significant in predicting CLV"
   ]
  },
  {
   "cell_type": "code",
   "execution_count": 35,
   "id": "1311c3fc",
   "metadata": {},
   "outputs": [],
   "source": [
    "Ba=df[df['Location Code']=='Suburban']['CLV']\n",
    "Co=df[df['Location Code']=='Rural']['CLV']\n",
    "Hi=df[df['Location Code']=='Urban']['CLV']"
   ]
  },
  {
   "cell_type": "code",
   "execution_count": 36,
   "id": "5ebe3bce",
   "metadata": {},
   "outputs": [
    {
     "name": "stdout",
     "output_type": "stream",
     "text": [
      "KruskalResult(statistic=2.4638212999332567, pvalue=0.29173464205664124)\n"
     ]
    }
   ],
   "source": [
    "g = stats.kruskal(Ba,Co,Hi)\n",
    "print(g)"
   ]
  },
  {
   "cell_type": "markdown",
   "id": "f261bedb",
   "metadata": {},
   "source": [
    "p-value < 0.05 reject H0, Location Code can be significant in predicting CLV"
   ]
  },
  {
   "cell_type": "code",
   "execution_count": 38,
   "id": "37e5948e",
   "metadata": {},
   "outputs": [],
   "source": [
    "Ba=df[df['Marital Status']=='Married']['CLV']\n",
    "Co=df[df['Marital Status']=='Single']['CLV']\n",
    "Hi=df[df['Marital Status']=='Divorced']['CLV']"
   ]
  },
  {
   "cell_type": "code",
   "execution_count": 39,
   "id": "c4dfc7cb",
   "metadata": {},
   "outputs": [
    {
     "name": "stdout",
     "output_type": "stream",
     "text": [
      "KruskalResult(statistic=20.895798766808223, pvalue=2.9009146434700455e-05)\n"
     ]
    }
   ],
   "source": [
    "h = stats.kruskal(Ba,Co,Hi)\n",
    "print(h)"
   ]
  },
  {
   "cell_type": "markdown",
   "id": "efee4b06",
   "metadata": {},
   "source": [
    "p-value < 0.05 reject H0, Marital Status can be significant in predicting CLV"
   ]
  },
  {
   "cell_type": "code",
   "execution_count": 40,
   "id": "6eecfd50",
   "metadata": {},
   "outputs": [],
   "source": [
    "Ba=df[df['Number of Open Complaints']==0]['CLV']\n",
    "Co=df[df['Number of Open Complaints']==1]['CLV']\n",
    "Hi=df[df['Number of Open Complaints']==2]['CLV']\n",
    "Ma=df[df['Number of Open Complaints']==3]['CLV']\n",
    "Da=df[df['Number of Open Complaints']==4]['CLV']\n",
    "As=df[df['Number of Open Complaints']==5]['CLV']"
   ]
  },
  {
   "cell_type": "code",
   "execution_count": 41,
   "id": "62aa35fd",
   "metadata": {},
   "outputs": [
    {
     "name": "stdout",
     "output_type": "stream",
     "text": [
      "KruskalResult(statistic=29.160617988301833, pvalue=2.1564409504417123e-05)\n"
     ]
    }
   ],
   "source": [
    "o = stats.kruskal(Ba,Co,Hi,Ma,Da,As)\n",
    "print(o)"
   ]
  },
  {
   "cell_type": "markdown",
   "id": "5bdd9ed1",
   "metadata": {},
   "source": [
    "p-value < 0.05 reject H0, Number of Open Complaints can be significant in predicting CLV"
   ]
  },
  {
   "cell_type": "code",
   "execution_count": 42,
   "id": "c782736a",
   "metadata": {},
   "outputs": [],
   "source": [
    "Ba=df[df['Number of Policies']==1]['CLV']\n",
    "Co=df[df['Number of Policies']==2]['CLV']\n",
    "Hi=df[df['Number of Policies']==3]['CLV']"
   ]
  },
  {
   "cell_type": "code",
   "execution_count": 43,
   "id": "b73e4082",
   "metadata": {},
   "outputs": [
    {
     "name": "stdout",
     "output_type": "stream",
     "text": [
      "KruskalResult(statistic=5017.7060662040785, pvalue=0.0)\n"
     ]
    }
   ],
   "source": [
    "p = stats.kruskal(Ba,Co,Hi)\n",
    "print(p)"
   ]
  },
  {
   "cell_type": "markdown",
   "id": "565d9990",
   "metadata": {},
   "source": [
    "p-value < 0.05 reject H0, Number of Policies can be significant in predicting CLV"
   ]
  },
  {
   "cell_type": "code",
   "execution_count": 44,
   "id": "b6fab082",
   "metadata": {},
   "outputs": [],
   "source": [
    "Ba=df[df['Policy Type']=='Personal Auto']['CLV']\n",
    "Co=df[df['Policy Type']=='Corporate Auto']['CLV']\n",
    "Hi=df[df['Policy Type']=='Special Auto']['CLV']"
   ]
  },
  {
   "cell_type": "code",
   "execution_count": 45,
   "id": "063941f1",
   "metadata": {},
   "outputs": [
    {
     "name": "stdout",
     "output_type": "stream",
     "text": [
      "KruskalResult(statistic=4.6074986354931795, pvalue=0.0998836452694168)\n"
     ]
    }
   ],
   "source": [
    "i = stats.kruskal(Ba,Co,Hi)\n",
    "print(i)"
   ]
  },
  {
   "cell_type": "markdown",
   "id": "6d478f23",
   "metadata": {},
   "source": [
    "p-value > 0.05 failed to reject H0, Policy Type may not be significant in predicting CLV"
   ]
  },
  {
   "cell_type": "code",
   "execution_count": 46,
   "id": "bee3b540",
   "metadata": {},
   "outputs": [],
   "source": [
    "Ba=df[df['Policy']=='Personal L3']['CLV']\n",
    "Co=df[df['Policy']=='Personal L2']['CLV']\n",
    "Hi=df[df['Policy']=='Personal L1']['CLV']\n",
    "Ma=df[df['Policy']=='Corporate L3']['CLV']\n",
    "Da=df[df['Policy']=='Corporate L2']['CLV']\n",
    "Ca=df[df['Policy']=='Corporate L1']['CLV']\n",
    "s1=df[df['Policy']=='Special L2']['CLV']\n",
    "s2=df[df['Policy']=='Special L3']['CLV']\n",
    "s3=df[df['Policy']=='Special L1']['CLV']"
   ]
  },
  {
   "cell_type": "code",
   "execution_count": 47,
   "id": "494b0b40",
   "metadata": {},
   "outputs": [
    {
     "name": "stdout",
     "output_type": "stream",
     "text": [
      "KruskalResult(statistic=7.944351884462466, pvalue=0.4389248352544014)\n"
     ]
    }
   ],
   "source": [
    "j =stats.kruskal(Ba,Co,Hi,Ma,Da,Ca,s1,s2,s3)\n",
    "print(j)"
   ]
  },
  {
   "cell_type": "markdown",
   "id": "d25df619",
   "metadata": {},
   "source": [
    "p-value > 0.05 failed to reject H0, Policy may not be significant in predicting CLV"
   ]
  },
  {
   "cell_type": "code",
   "execution_count": 49,
   "id": "2e2b6392",
   "metadata": {},
   "outputs": [],
   "source": [
    "Ba=df[df['Renew Offer Type']=='Offer1']['CLV']\n",
    "Co=df[df['Renew Offer Type']=='Offer2']['CLV']\n",
    "Hi=df[df['Renew Offer Type']=='Offer3']['CLV']\n",
    "Ma=df[df['Renew Offer Type']=='Offer4']['CLV']"
   ]
  },
  {
   "cell_type": "code",
   "execution_count": 50,
   "id": "7f0f57a2",
   "metadata": {},
   "outputs": [
    {
     "name": "stdout",
     "output_type": "stream",
     "text": [
      "KruskalResult(statistic=168.90219457792458, pvalue=2.196144881912684e-36)\n"
     ]
    }
   ],
   "source": [
    "k =stats.kruskal(Ba,Co,Hi,Ma)\n",
    "print(k)"
   ]
  },
  {
   "cell_type": "markdown",
   "id": "32003d56",
   "metadata": {},
   "source": [
    "p-value < 0.05 reject H0, Number of Policies can be significant in predicting CLV"
   ]
  },
  {
   "cell_type": "code",
   "execution_count": 51,
   "id": "a54bc08d",
   "metadata": {},
   "outputs": [],
   "source": [
    "Ba=df[df['Sales Channel']=='Agent']['CLV']\n",
    "Co=df[df['Sales Channel']=='Branch']['CLV']\n",
    "Hi=df[df['Sales Channel']=='Call Center']['CLV']\n",
    "Ma=df[df['Sales Channel']=='Web']['CLV']"
   ]
  },
  {
   "cell_type": "code",
   "execution_count": 52,
   "id": "e636e285",
   "metadata": {},
   "outputs": [
    {
     "name": "stdout",
     "output_type": "stream",
     "text": [
      "KruskalResult(statistic=4.491751501229693, pvalue=0.2130272157209903)\n"
     ]
    }
   ],
   "source": [
    "l = stats.kruskal(Ba,Co,Hi,Ma)\n",
    "print(l)"
   ]
  },
  {
   "cell_type": "markdown",
   "id": "f8b3d893",
   "metadata": {},
   "source": [
    "p-value > 0.05 failed to reject H0, Sales Channel may not be significant in predicting CLV"
   ]
  },
  {
   "cell_type": "code",
   "execution_count": 54,
   "id": "92780977",
   "metadata": {},
   "outputs": [],
   "source": [
    "Ba=df[df['Vehicle Class']=='Four-Door Car']['CLV']\n",
    "Co=df[df['Vehicle Class']=='Two-Door Car']['CLV']\n",
    "Hi=df[df['Vehicle Class']=='SUV']['CLV']\n",
    "Ma=df[df['Vehicle Class']=='Sports Car']['CLV']\n",
    "Da=df[df['Vehicle Class']=='Luxury SUV']['CLV']\n",
    "Ca=df[df['Vehicle Class']=='Luxury Car']['CLV']"
   ]
  },
  {
   "cell_type": "code",
   "execution_count": 55,
   "id": "aa57909f",
   "metadata": {},
   "outputs": [
    {
     "name": "stdout",
     "output_type": "stream",
     "text": [
      "KruskalResult(statistic=1310.5494960284416, pvalue=3.309676344717952e-281)\n"
     ]
    }
   ],
   "source": [
    "m = stats.kruskal(Ba,Co,Hi,Ma,Da,Ca)\n",
    "print(m)"
   ]
  },
  {
   "cell_type": "markdown",
   "id": "1cdfcfe2",
   "metadata": {},
   "source": [
    "p-value < 0.05 reject H0, Vehicle Class can be significant in predicting CLV"
   ]
  },
  {
   "cell_type": "code",
   "execution_count": 56,
   "id": "c03c5a5e",
   "metadata": {},
   "outputs": [],
   "source": [
    "Ba=df[df['Vehicle Size']=='Medsize']['CLV']\n",
    "Co=df[df['Vehicle Size']=='Small']['CLV']\n",
    "Hi=df[df['Vehicle Size']=='Large']['CLV']"
   ]
  },
  {
   "cell_type": "code",
   "execution_count": 57,
   "id": "809dc81b",
   "metadata": {},
   "outputs": [
    {
     "name": "stdout",
     "output_type": "stream",
     "text": [
      "KruskalResult(statistic=9.564995661218877, pvalue=0.00837505335446059)\n"
     ]
    }
   ],
   "source": [
    "n =stats.kruskal(Ba,Co,Hi)\n",
    "print(n)"
   ]
  },
  {
   "cell_type": "markdown",
   "id": "503abcaa",
   "metadata": {},
   "source": [
    "p-value < 0.05 reject H0, Vehicle Class can be significant in predicting CLV"
   ]
  },
  {
   "cell_type": "code",
   "execution_count": 58,
   "id": "04e4b6f8",
   "metadata": {},
   "outputs": [
    {
     "data": {
      "text/plain": [
       "['Customer',\n",
       " 'State',\n",
       " 'Response',\n",
       " 'Coverage',\n",
       " 'Education',\n",
       " 'EmploymentStatus',\n",
       " 'Gender',\n",
       " 'Location Code',\n",
       " 'Marital Status',\n",
       " 'Policy Type',\n",
       " 'Policy',\n",
       " 'Renew Offer Type',\n",
       " 'Sales Channel',\n",
       " 'Vehicle Class',\n",
       " 'Vehicle Size',\n",
       " 'Number of Open Complaints',\n",
       " 'Number of Policies']"
      ]
     },
     "execution_count": 58,
     "metadata": {},
     "output_type": "execute_result"
    }
   ],
   "source": [
    "columns_cat"
   ]
  },
  {
   "cell_type": "code",
   "execution_count": 59,
   "id": "2d26db25",
   "metadata": {},
   "outputs": [],
   "source": [
    "cat_cols.drop(\"Customer\",axis=1,inplace=True)"
   ]
  },
  {
   "cell_type": "code",
   "execution_count": 60,
   "id": "88ebaedd",
   "metadata": {},
   "outputs": [
    {
     "data": {
      "text/html": [
       "<div>\n",
       "<style scoped>\n",
       "    .dataframe tbody tr th:only-of-type {\n",
       "        vertical-align: middle;\n",
       "    }\n",
       "\n",
       "    .dataframe tbody tr th {\n",
       "        vertical-align: top;\n",
       "    }\n",
       "\n",
       "    .dataframe thead th {\n",
       "        text-align: right;\n",
       "    }\n",
       "</style>\n",
       "<table border=\"1\" class=\"dataframe\">\n",
       "  <thead>\n",
       "    <tr style=\"text-align: right;\">\n",
       "      <th></th>\n",
       "      <th>State</th>\n",
       "      <th>Response</th>\n",
       "      <th>Coverage</th>\n",
       "      <th>Education</th>\n",
       "      <th>EmploymentStatus</th>\n",
       "      <th>Gender</th>\n",
       "      <th>Location Code</th>\n",
       "      <th>Marital Status</th>\n",
       "      <th>Policy Type</th>\n",
       "      <th>Policy</th>\n",
       "      <th>Renew Offer Type</th>\n",
       "      <th>Sales Channel</th>\n",
       "      <th>Vehicle Class</th>\n",
       "      <th>Vehicle Size</th>\n",
       "      <th>Number of Open Complaints</th>\n",
       "      <th>Number of Policies</th>\n",
       "    </tr>\n",
       "  </thead>\n",
       "  <tbody>\n",
       "    <tr>\n",
       "      <th>0</th>\n",
       "      <td>Washington</td>\n",
       "      <td>No</td>\n",
       "      <td>Basic</td>\n",
       "      <td>Bachelor</td>\n",
       "      <td>Employed</td>\n",
       "      <td>F</td>\n",
       "      <td>Suburban</td>\n",
       "      <td>Married</td>\n",
       "      <td>Corporate Auto</td>\n",
       "      <td>Corporate L3</td>\n",
       "      <td>Offer1</td>\n",
       "      <td>Agent</td>\n",
       "      <td>Two-Door Car</td>\n",
       "      <td>Medsize</td>\n",
       "      <td>0</td>\n",
       "      <td>1</td>\n",
       "    </tr>\n",
       "    <tr>\n",
       "      <th>1</th>\n",
       "      <td>Arizona</td>\n",
       "      <td>No</td>\n",
       "      <td>Extended</td>\n",
       "      <td>Bachelor</td>\n",
       "      <td>Unemployed</td>\n",
       "      <td>F</td>\n",
       "      <td>Suburban</td>\n",
       "      <td>Single</td>\n",
       "      <td>Personal Auto</td>\n",
       "      <td>Personal L3</td>\n",
       "      <td>Offer3</td>\n",
       "      <td>Agent</td>\n",
       "      <td>Four-Door Car</td>\n",
       "      <td>Medsize</td>\n",
       "      <td>0</td>\n",
       "      <td>8</td>\n",
       "    </tr>\n",
       "    <tr>\n",
       "      <th>2</th>\n",
       "      <td>Nevada</td>\n",
       "      <td>No</td>\n",
       "      <td>Premium</td>\n",
       "      <td>Bachelor</td>\n",
       "      <td>Employed</td>\n",
       "      <td>F</td>\n",
       "      <td>Suburban</td>\n",
       "      <td>Married</td>\n",
       "      <td>Personal Auto</td>\n",
       "      <td>Personal L3</td>\n",
       "      <td>Offer1</td>\n",
       "      <td>Agent</td>\n",
       "      <td>Two-Door Car</td>\n",
       "      <td>Medsize</td>\n",
       "      <td>0</td>\n",
       "      <td>2</td>\n",
       "    </tr>\n",
       "    <tr>\n",
       "      <th>3</th>\n",
       "      <td>California</td>\n",
       "      <td>No</td>\n",
       "      <td>Basic</td>\n",
       "      <td>Bachelor</td>\n",
       "      <td>Unemployed</td>\n",
       "      <td>M</td>\n",
       "      <td>Suburban</td>\n",
       "      <td>Married</td>\n",
       "      <td>Corporate Auto</td>\n",
       "      <td>Corporate L2</td>\n",
       "      <td>Offer1</td>\n",
       "      <td>Call Center</td>\n",
       "      <td>SUV</td>\n",
       "      <td>Medsize</td>\n",
       "      <td>0</td>\n",
       "      <td>7</td>\n",
       "    </tr>\n",
       "    <tr>\n",
       "      <th>4</th>\n",
       "      <td>Washington</td>\n",
       "      <td>No</td>\n",
       "      <td>Basic</td>\n",
       "      <td>Bachelor</td>\n",
       "      <td>Employed</td>\n",
       "      <td>M</td>\n",
       "      <td>Rural</td>\n",
       "      <td>Single</td>\n",
       "      <td>Personal Auto</td>\n",
       "      <td>Personal L1</td>\n",
       "      <td>Offer1</td>\n",
       "      <td>Agent</td>\n",
       "      <td>Four-Door Car</td>\n",
       "      <td>Medsize</td>\n",
       "      <td>0</td>\n",
       "      <td>1</td>\n",
       "    </tr>\n",
       "    <tr>\n",
       "      <th>...</th>\n",
       "      <td>...</td>\n",
       "      <td>...</td>\n",
       "      <td>...</td>\n",
       "      <td>...</td>\n",
       "      <td>...</td>\n",
       "      <td>...</td>\n",
       "      <td>...</td>\n",
       "      <td>...</td>\n",
       "      <td>...</td>\n",
       "      <td>...</td>\n",
       "      <td>...</td>\n",
       "      <td>...</td>\n",
       "      <td>...</td>\n",
       "      <td>...</td>\n",
       "      <td>...</td>\n",
       "      <td>...</td>\n",
       "    </tr>\n",
       "    <tr>\n",
       "      <th>9129</th>\n",
       "      <td>California</td>\n",
       "      <td>No</td>\n",
       "      <td>Basic</td>\n",
       "      <td>Bachelor</td>\n",
       "      <td>Employed</td>\n",
       "      <td>M</td>\n",
       "      <td>Urban</td>\n",
       "      <td>Married</td>\n",
       "      <td>Personal Auto</td>\n",
       "      <td>Personal L1</td>\n",
       "      <td>Offer2</td>\n",
       "      <td>Web</td>\n",
       "      <td>Four-Door Car</td>\n",
       "      <td>Medsize</td>\n",
       "      <td>0</td>\n",
       "      <td>2</td>\n",
       "    </tr>\n",
       "    <tr>\n",
       "      <th>9130</th>\n",
       "      <td>California</td>\n",
       "      <td>Yes</td>\n",
       "      <td>Extended</td>\n",
       "      <td>College</td>\n",
       "      <td>Employed</td>\n",
       "      <td>F</td>\n",
       "      <td>Suburban</td>\n",
       "      <td>Divorced</td>\n",
       "      <td>Corporate Auto</td>\n",
       "      <td>Corporate L3</td>\n",
       "      <td>Offer1</td>\n",
       "      <td>Branch</td>\n",
       "      <td>Four-Door Car</td>\n",
       "      <td>Medsize</td>\n",
       "      <td>0</td>\n",
       "      <td>1</td>\n",
       "    </tr>\n",
       "    <tr>\n",
       "      <th>9131</th>\n",
       "      <td>California</td>\n",
       "      <td>No</td>\n",
       "      <td>Extended</td>\n",
       "      <td>Bachelor</td>\n",
       "      <td>Unemployed</td>\n",
       "      <td>M</td>\n",
       "      <td>Suburban</td>\n",
       "      <td>Single</td>\n",
       "      <td>Corporate Auto</td>\n",
       "      <td>Corporate L2</td>\n",
       "      <td>Offer1</td>\n",
       "      <td>Branch</td>\n",
       "      <td>Four-Door Car</td>\n",
       "      <td>Medsize</td>\n",
       "      <td>3</td>\n",
       "      <td>2</td>\n",
       "    </tr>\n",
       "    <tr>\n",
       "      <th>9132</th>\n",
       "      <td>California</td>\n",
       "      <td>No</td>\n",
       "      <td>Extended</td>\n",
       "      <td>College</td>\n",
       "      <td>Employed</td>\n",
       "      <td>M</td>\n",
       "      <td>Suburban</td>\n",
       "      <td>Married</td>\n",
       "      <td>Personal Auto</td>\n",
       "      <td>Personal L2</td>\n",
       "      <td>Offer3</td>\n",
       "      <td>Branch</td>\n",
       "      <td>Four-Door Car</td>\n",
       "      <td>Large</td>\n",
       "      <td>0</td>\n",
       "      <td>3</td>\n",
       "    </tr>\n",
       "    <tr>\n",
       "      <th>9133</th>\n",
       "      <td>California</td>\n",
       "      <td>No</td>\n",
       "      <td>Extended</td>\n",
       "      <td>College</td>\n",
       "      <td>Unemployed</td>\n",
       "      <td>M</td>\n",
       "      <td>Suburban</td>\n",
       "      <td>Single</td>\n",
       "      <td>Corporate Auto</td>\n",
       "      <td>Corporate L3</td>\n",
       "      <td>Offer4</td>\n",
       "      <td>Call Center</td>\n",
       "      <td>Two-Door Car</td>\n",
       "      <td>Medsize</td>\n",
       "      <td>0</td>\n",
       "      <td>1</td>\n",
       "    </tr>\n",
       "  </tbody>\n",
       "</table>\n",
       "<p>9134 rows × 16 columns</p>\n",
       "</div>"
      ],
      "text/plain": [
       "           State Response  Coverage Education EmploymentStatus Gender  \\\n",
       "0     Washington       No     Basic  Bachelor         Employed      F   \n",
       "1        Arizona       No  Extended  Bachelor       Unemployed      F   \n",
       "2         Nevada       No   Premium  Bachelor         Employed      F   \n",
       "3     California       No     Basic  Bachelor       Unemployed      M   \n",
       "4     Washington       No     Basic  Bachelor         Employed      M   \n",
       "...          ...      ...       ...       ...              ...    ...   \n",
       "9129  California       No     Basic  Bachelor         Employed      M   \n",
       "9130  California      Yes  Extended   College         Employed      F   \n",
       "9131  California       No  Extended  Bachelor       Unemployed      M   \n",
       "9132  California       No  Extended   College         Employed      M   \n",
       "9133  California       No  Extended   College       Unemployed      M   \n",
       "\n",
       "     Location Code Marital Status     Policy Type        Policy  \\\n",
       "0         Suburban        Married  Corporate Auto  Corporate L3   \n",
       "1         Suburban         Single   Personal Auto   Personal L3   \n",
       "2         Suburban        Married   Personal Auto   Personal L3   \n",
       "3         Suburban        Married  Corporate Auto  Corporate L2   \n",
       "4            Rural         Single   Personal Auto   Personal L1   \n",
       "...            ...            ...             ...           ...   \n",
       "9129         Urban        Married   Personal Auto   Personal L1   \n",
       "9130      Suburban       Divorced  Corporate Auto  Corporate L3   \n",
       "9131      Suburban         Single  Corporate Auto  Corporate L2   \n",
       "9132      Suburban        Married   Personal Auto   Personal L2   \n",
       "9133      Suburban         Single  Corporate Auto  Corporate L3   \n",
       "\n",
       "     Renew Offer Type Sales Channel  Vehicle Class Vehicle Size  \\\n",
       "0              Offer1         Agent   Two-Door Car      Medsize   \n",
       "1              Offer3         Agent  Four-Door Car      Medsize   \n",
       "2              Offer1         Agent   Two-Door Car      Medsize   \n",
       "3              Offer1   Call Center            SUV      Medsize   \n",
       "4              Offer1         Agent  Four-Door Car      Medsize   \n",
       "...               ...           ...            ...          ...   \n",
       "9129           Offer2           Web  Four-Door Car      Medsize   \n",
       "9130           Offer1        Branch  Four-Door Car      Medsize   \n",
       "9131           Offer1        Branch  Four-Door Car      Medsize   \n",
       "9132           Offer3        Branch  Four-Door Car        Large   \n",
       "9133           Offer4   Call Center   Two-Door Car      Medsize   \n",
       "\n",
       "      Number of Open Complaints  Number of Policies  \n",
       "0                             0                   1  \n",
       "1                             0                   8  \n",
       "2                             0                   2  \n",
       "3                             0                   7  \n",
       "4                             0                   1  \n",
       "...                         ...                 ...  \n",
       "9129                          0                   2  \n",
       "9130                          0                   1  \n",
       "9131                          3                   2  \n",
       "9132                          0                   3  \n",
       "9133                          0                   1  \n",
       "\n",
       "[9134 rows x 16 columns]"
      ]
     },
     "execution_count": 60,
     "metadata": {},
     "output_type": "execute_result"
    }
   ],
   "source": [
    "cat_cols"
   ]
  },
  {
   "cell_type": "code",
   "execution_count": 61,
   "id": "4f7b76c3",
   "metadata": {},
   "outputs": [],
   "source": [
    "p_values = [a[1],b[1],c[1],d[1],e[1],f[1],g[1],h[1],i[1],j[1],k[1],l[1],m[1],n[1],o[1],p[1]]"
   ]
  },
  {
   "cell_type": "code",
   "execution_count": 62,
   "id": "83ce4c23",
   "metadata": {},
   "outputs": [
    {
     "data": {
      "text/plain": [
       "[0.27998232358818953,\n",
       " 0.48749303056449833,\n",
       " 7.648852917746348e-110,\n",
       " 0.015693004298603028,\n",
       " 1.2758458797542519e-08,\n",
       " 0.5168872245291198,\n",
       " 0.29173464205664124,\n",
       " 2.9009146434700455e-05,\n",
       " 0.0998836452694168,\n",
       " 0.4389248352544014,\n",
       " 2.196144881912684e-36,\n",
       " 0.2130272157209903,\n",
       " 3.309676344717952e-281,\n",
       " 0.00837505335446059,\n",
       " 2.1564409504417123e-05,\n",
       " 0.0]"
      ]
     },
     "execution_count": 62,
     "metadata": {},
     "output_type": "execute_result"
    }
   ],
   "source": [
    "p_values"
   ]
  },
  {
   "cell_type": "code",
   "execution_count": 63,
   "id": "529ae5df",
   "metadata": {},
   "outputs": [
    {
     "data": {
      "text/plain": [
       "16"
      ]
     },
     "execution_count": 63,
     "metadata": {},
     "output_type": "execute_result"
    }
   ],
   "source": [
    "len(p_values)"
   ]
  },
  {
   "cell_type": "code",
   "execution_count": 64,
   "id": "4cd36eb2",
   "metadata": {},
   "outputs": [
    {
     "data": {
      "text/plain": [
       "16"
      ]
     },
     "execution_count": 64,
     "metadata": {},
     "output_type": "execute_result"
    }
   ],
   "source": [
    "len(cat_cols.columns)"
   ]
  },
  {
   "cell_type": "code",
   "execution_count": 65,
   "id": "45f38323",
   "metadata": {},
   "outputs": [
    {
     "data": {
      "text/html": [
       "<div>\n",
       "<style scoped>\n",
       "    .dataframe tbody tr th:only-of-type {\n",
       "        vertical-align: middle;\n",
       "    }\n",
       "\n",
       "    .dataframe tbody tr th {\n",
       "        vertical-align: top;\n",
       "    }\n",
       "\n",
       "    .dataframe thead th {\n",
       "        text-align: right;\n",
       "    }\n",
       "</style>\n",
       "<table border=\"1\" class=\"dataframe\">\n",
       "  <thead>\n",
       "    <tr style=\"text-align: right;\">\n",
       "      <th></th>\n",
       "      <th>P_Value</th>\n",
       "    </tr>\n",
       "  </thead>\n",
       "  <tbody>\n",
       "    <tr>\n",
       "      <th>State</th>\n",
       "      <td>2.799823e-01</td>\n",
       "    </tr>\n",
       "    <tr>\n",
       "      <th>Response</th>\n",
       "      <td>4.874930e-01</td>\n",
       "    </tr>\n",
       "    <tr>\n",
       "      <th>Coverage</th>\n",
       "      <td>7.648853e-110</td>\n",
       "    </tr>\n",
       "    <tr>\n",
       "      <th>Education</th>\n",
       "      <td>1.569300e-02</td>\n",
       "    </tr>\n",
       "    <tr>\n",
       "      <th>EmploymentStatus</th>\n",
       "      <td>1.275846e-08</td>\n",
       "    </tr>\n",
       "    <tr>\n",
       "      <th>Gender</th>\n",
       "      <td>5.168872e-01</td>\n",
       "    </tr>\n",
       "    <tr>\n",
       "      <th>Location Code</th>\n",
       "      <td>2.917346e-01</td>\n",
       "    </tr>\n",
       "    <tr>\n",
       "      <th>Marital Status</th>\n",
       "      <td>2.900915e-05</td>\n",
       "    </tr>\n",
       "    <tr>\n",
       "      <th>Policy Type</th>\n",
       "      <td>9.988365e-02</td>\n",
       "    </tr>\n",
       "    <tr>\n",
       "      <th>Policy</th>\n",
       "      <td>4.389248e-01</td>\n",
       "    </tr>\n",
       "    <tr>\n",
       "      <th>Renew Offer Type</th>\n",
       "      <td>2.196145e-36</td>\n",
       "    </tr>\n",
       "    <tr>\n",
       "      <th>Sales Channel</th>\n",
       "      <td>2.130272e-01</td>\n",
       "    </tr>\n",
       "    <tr>\n",
       "      <th>Vehicle Class</th>\n",
       "      <td>3.309676e-281</td>\n",
       "    </tr>\n",
       "    <tr>\n",
       "      <th>Vehicle Size</th>\n",
       "      <td>8.375053e-03</td>\n",
       "    </tr>\n",
       "    <tr>\n",
       "      <th>Number of Open Complaints</th>\n",
       "      <td>2.156441e-05</td>\n",
       "    </tr>\n",
       "    <tr>\n",
       "      <th>Number of Policies</th>\n",
       "      <td>0.000000e+00</td>\n",
       "    </tr>\n",
       "  </tbody>\n",
       "</table>\n",
       "</div>"
      ],
      "text/plain": [
       "                                 P_Value\n",
       "State                       2.799823e-01\n",
       "Response                    4.874930e-01\n",
       "Coverage                   7.648853e-110\n",
       "Education                   1.569300e-02\n",
       "EmploymentStatus            1.275846e-08\n",
       "Gender                      5.168872e-01\n",
       "Location Code               2.917346e-01\n",
       "Marital Status              2.900915e-05\n",
       "Policy Type                 9.988365e-02\n",
       "Policy                      4.389248e-01\n",
       "Renew Offer Type            2.196145e-36\n",
       "Sales Channel               2.130272e-01\n",
       "Vehicle Class              3.309676e-281\n",
       "Vehicle Size                8.375053e-03\n",
       "Number of Open Complaints   2.156441e-05\n",
       "Number of Policies          0.000000e+00"
      ]
     },
     "execution_count": 65,
     "metadata": {},
     "output_type": "execute_result"
    }
   ],
   "source": [
    "pd.DataFrame(p_values,index=(cat_cols.columns),columns=['P_Value'])"
   ]
  },
  {
   "cell_type": "markdown",
   "id": "5346ddc1",
   "metadata": {},
   "source": [
    "The CLV is significantly influenced by factors such as coverage, education, employment status, marital status, renewal offer type, vehicle class, number of open complaints, and number of policies."
   ]
  },
  {
   "cell_type": "code",
   "execution_count": 66,
   "id": "8f69c7b5",
   "metadata": {},
   "outputs": [
    {
     "data": {
      "text/html": [
       "<div>\n",
       "<style scoped>\n",
       "    .dataframe tbody tr th:only-of-type {\n",
       "        vertical-align: middle;\n",
       "    }\n",
       "\n",
       "    .dataframe tbody tr th {\n",
       "        vertical-align: top;\n",
       "    }\n",
       "\n",
       "    .dataframe thead th {\n",
       "        text-align: right;\n",
       "    }\n",
       "</style>\n",
       "<table border=\"1\" class=\"dataframe\">\n",
       "  <thead>\n",
       "    <tr style=\"text-align: right;\">\n",
       "      <th></th>\n",
       "      <th>CLV</th>\n",
       "      <th>Income</th>\n",
       "      <th>Monthly Premium Auto</th>\n",
       "      <th>Months Since Last Claim</th>\n",
       "      <th>Months Since Policy Inception</th>\n",
       "      <th>Total Claim Amount</th>\n",
       "    </tr>\n",
       "  </thead>\n",
       "  <tbody>\n",
       "    <tr>\n",
       "      <th>0</th>\n",
       "      <td>2763.519279</td>\n",
       "      <td>56274</td>\n",
       "      <td>69</td>\n",
       "      <td>32</td>\n",
       "      <td>5</td>\n",
       "      <td>384.811147</td>\n",
       "    </tr>\n",
       "    <tr>\n",
       "      <th>1</th>\n",
       "      <td>6979.535903</td>\n",
       "      <td>0</td>\n",
       "      <td>94</td>\n",
       "      <td>13</td>\n",
       "      <td>42</td>\n",
       "      <td>1131.464935</td>\n",
       "    </tr>\n",
       "    <tr>\n",
       "      <th>2</th>\n",
       "      <td>12887.431650</td>\n",
       "      <td>48767</td>\n",
       "      <td>108</td>\n",
       "      <td>18</td>\n",
       "      <td>38</td>\n",
       "      <td>566.472247</td>\n",
       "    </tr>\n",
       "    <tr>\n",
       "      <th>3</th>\n",
       "      <td>7645.861827</td>\n",
       "      <td>0</td>\n",
       "      <td>106</td>\n",
       "      <td>18</td>\n",
       "      <td>65</td>\n",
       "      <td>529.881344</td>\n",
       "    </tr>\n",
       "    <tr>\n",
       "      <th>4</th>\n",
       "      <td>2813.692575</td>\n",
       "      <td>43836</td>\n",
       "      <td>73</td>\n",
       "      <td>12</td>\n",
       "      <td>44</td>\n",
       "      <td>138.130879</td>\n",
       "    </tr>\n",
       "  </tbody>\n",
       "</table>\n",
       "</div>"
      ],
      "text/plain": [
       "            CLV  Income  Monthly Premium Auto  Months Since Last Claim  \\\n",
       "0   2763.519279   56274                    69                       32   \n",
       "1   6979.535903       0                    94                       13   \n",
       "2  12887.431650   48767                   108                       18   \n",
       "3   7645.861827       0                   106                       18   \n",
       "4   2813.692575   43836                    73                       12   \n",
       "\n",
       "   Months Since Policy Inception  Total Claim Amount  \n",
       "0                              5          384.811147  \n",
       "1                             42         1131.464935  \n",
       "2                             38          566.472247  \n",
       "3                             65          529.881344  \n",
       "4                             44          138.130879  "
      ]
     },
     "execution_count": 66,
     "metadata": {},
     "output_type": "execute_result"
    }
   ],
   "source": [
    "numerical_cols.head()"
   ]
  },
  {
   "cell_type": "code",
   "execution_count": 67,
   "id": "3b446de0",
   "metadata": {},
   "outputs": [
    {
     "data": {
      "text/html": [
       "<div>\n",
       "<style scoped>\n",
       "    .dataframe tbody tr th:only-of-type {\n",
       "        vertical-align: middle;\n",
       "    }\n",
       "\n",
       "    .dataframe tbody tr th {\n",
       "        vertical-align: top;\n",
       "    }\n",
       "\n",
       "    .dataframe thead th {\n",
       "        text-align: right;\n",
       "    }\n",
       "</style>\n",
       "<table border=\"1\" class=\"dataframe\">\n",
       "  <thead>\n",
       "    <tr style=\"text-align: right;\">\n",
       "      <th></th>\n",
       "      <th>State</th>\n",
       "      <th>Response</th>\n",
       "      <th>Coverage</th>\n",
       "      <th>Education</th>\n",
       "      <th>EmploymentStatus</th>\n",
       "      <th>Gender</th>\n",
       "      <th>Location Code</th>\n",
       "      <th>Marital Status</th>\n",
       "      <th>Policy Type</th>\n",
       "      <th>Policy</th>\n",
       "      <th>Renew Offer Type</th>\n",
       "      <th>Sales Channel</th>\n",
       "      <th>Vehicle Class</th>\n",
       "      <th>Vehicle Size</th>\n",
       "      <th>Number of Open Complaints</th>\n",
       "      <th>Number of Policies</th>\n",
       "    </tr>\n",
       "  </thead>\n",
       "  <tbody>\n",
       "    <tr>\n",
       "      <th>0</th>\n",
       "      <td>Washington</td>\n",
       "      <td>No</td>\n",
       "      <td>Basic</td>\n",
       "      <td>Bachelor</td>\n",
       "      <td>Employed</td>\n",
       "      <td>F</td>\n",
       "      <td>Suburban</td>\n",
       "      <td>Married</td>\n",
       "      <td>Corporate Auto</td>\n",
       "      <td>Corporate L3</td>\n",
       "      <td>Offer1</td>\n",
       "      <td>Agent</td>\n",
       "      <td>Two-Door Car</td>\n",
       "      <td>Medsize</td>\n",
       "      <td>0</td>\n",
       "      <td>1</td>\n",
       "    </tr>\n",
       "    <tr>\n",
       "      <th>1</th>\n",
       "      <td>Arizona</td>\n",
       "      <td>No</td>\n",
       "      <td>Extended</td>\n",
       "      <td>Bachelor</td>\n",
       "      <td>Unemployed</td>\n",
       "      <td>F</td>\n",
       "      <td>Suburban</td>\n",
       "      <td>Single</td>\n",
       "      <td>Personal Auto</td>\n",
       "      <td>Personal L3</td>\n",
       "      <td>Offer3</td>\n",
       "      <td>Agent</td>\n",
       "      <td>Four-Door Car</td>\n",
       "      <td>Medsize</td>\n",
       "      <td>0</td>\n",
       "      <td>8</td>\n",
       "    </tr>\n",
       "    <tr>\n",
       "      <th>2</th>\n",
       "      <td>Nevada</td>\n",
       "      <td>No</td>\n",
       "      <td>Premium</td>\n",
       "      <td>Bachelor</td>\n",
       "      <td>Employed</td>\n",
       "      <td>F</td>\n",
       "      <td>Suburban</td>\n",
       "      <td>Married</td>\n",
       "      <td>Personal Auto</td>\n",
       "      <td>Personal L3</td>\n",
       "      <td>Offer1</td>\n",
       "      <td>Agent</td>\n",
       "      <td>Two-Door Car</td>\n",
       "      <td>Medsize</td>\n",
       "      <td>0</td>\n",
       "      <td>2</td>\n",
       "    </tr>\n",
       "    <tr>\n",
       "      <th>3</th>\n",
       "      <td>California</td>\n",
       "      <td>No</td>\n",
       "      <td>Basic</td>\n",
       "      <td>Bachelor</td>\n",
       "      <td>Unemployed</td>\n",
       "      <td>M</td>\n",
       "      <td>Suburban</td>\n",
       "      <td>Married</td>\n",
       "      <td>Corporate Auto</td>\n",
       "      <td>Corporate L2</td>\n",
       "      <td>Offer1</td>\n",
       "      <td>Call Center</td>\n",
       "      <td>SUV</td>\n",
       "      <td>Medsize</td>\n",
       "      <td>0</td>\n",
       "      <td>7</td>\n",
       "    </tr>\n",
       "    <tr>\n",
       "      <th>4</th>\n",
       "      <td>Washington</td>\n",
       "      <td>No</td>\n",
       "      <td>Basic</td>\n",
       "      <td>Bachelor</td>\n",
       "      <td>Employed</td>\n",
       "      <td>M</td>\n",
       "      <td>Rural</td>\n",
       "      <td>Single</td>\n",
       "      <td>Personal Auto</td>\n",
       "      <td>Personal L1</td>\n",
       "      <td>Offer1</td>\n",
       "      <td>Agent</td>\n",
       "      <td>Four-Door Car</td>\n",
       "      <td>Medsize</td>\n",
       "      <td>0</td>\n",
       "      <td>1</td>\n",
       "    </tr>\n",
       "  </tbody>\n",
       "</table>\n",
       "</div>"
      ],
      "text/plain": [
       "        State Response  Coverage Education EmploymentStatus Gender  \\\n",
       "0  Washington       No     Basic  Bachelor         Employed      F   \n",
       "1     Arizona       No  Extended  Bachelor       Unemployed      F   \n",
       "2      Nevada       No   Premium  Bachelor         Employed      F   \n",
       "3  California       No     Basic  Bachelor       Unemployed      M   \n",
       "4  Washington       No     Basic  Bachelor         Employed      M   \n",
       "\n",
       "  Location Code Marital Status     Policy Type        Policy Renew Offer Type  \\\n",
       "0      Suburban        Married  Corporate Auto  Corporate L3           Offer1   \n",
       "1      Suburban         Single   Personal Auto   Personal L3           Offer3   \n",
       "2      Suburban        Married   Personal Auto   Personal L3           Offer1   \n",
       "3      Suburban        Married  Corporate Auto  Corporate L2           Offer1   \n",
       "4         Rural         Single   Personal Auto   Personal L1           Offer1   \n",
       "\n",
       "  Sales Channel  Vehicle Class Vehicle Size  Number of Open Complaints  \\\n",
       "0         Agent   Two-Door Car      Medsize                          0   \n",
       "1         Agent  Four-Door Car      Medsize                          0   \n",
       "2         Agent   Two-Door Car      Medsize                          0   \n",
       "3   Call Center            SUV      Medsize                          0   \n",
       "4         Agent  Four-Door Car      Medsize                          0   \n",
       "\n",
       "   Number of Policies  \n",
       "0                   1  \n",
       "1                   8  \n",
       "2                   2  \n",
       "3                   7  \n",
       "4                   1  "
      ]
     },
     "execution_count": 67,
     "metadata": {},
     "output_type": "execute_result"
    }
   ],
   "source": [
    "cat_cols.head()"
   ]
  },
  {
   "cell_type": "code",
   "execution_count": 68,
   "id": "268bf598",
   "metadata": {},
   "outputs": [],
   "source": [
    "import statsmodels.api as sm"
   ]
  },
  {
   "cell_type": "code",
   "execution_count": 69,
   "id": "ee751803",
   "metadata": {},
   "outputs": [],
   "source": [
    "# X=numerical_cols.drop(['CLV'],axis=1)\n",
    "# y=numerical_cols['CLV']\n",
    "# lin_reg=sm.OLS(y,X).fit()\n",
    "# lin_reg.summary()  "
   ]
  },
  {
   "cell_type": "markdown",
   "id": "18f1b428",
   "metadata": {},
   "source": [
    "# Data Preprocessing"
   ]
  },
  {
   "cell_type": "code",
   "execution_count": 70,
   "id": "3baa31f9",
   "metadata": {},
   "outputs": [
    {
     "data": {
      "text/html": [
       "<div>\n",
       "<style scoped>\n",
       "    .dataframe tbody tr th:only-of-type {\n",
       "        vertical-align: middle;\n",
       "    }\n",
       "\n",
       "    .dataframe tbody tr th {\n",
       "        vertical-align: top;\n",
       "    }\n",
       "\n",
       "    .dataframe thead th {\n",
       "        text-align: right;\n",
       "    }\n",
       "</style>\n",
       "<table border=\"1\" class=\"dataframe\">\n",
       "  <thead>\n",
       "    <tr style=\"text-align: right;\">\n",
       "      <th></th>\n",
       "      <th>State</th>\n",
       "      <th>Response</th>\n",
       "      <th>Coverage</th>\n",
       "      <th>Education</th>\n",
       "      <th>EmploymentStatus</th>\n",
       "      <th>Gender</th>\n",
       "      <th>Location Code</th>\n",
       "      <th>Marital Status</th>\n",
       "      <th>Policy Type</th>\n",
       "      <th>Policy</th>\n",
       "      <th>Renew Offer Type</th>\n",
       "      <th>Sales Channel</th>\n",
       "      <th>Vehicle Class</th>\n",
       "      <th>Vehicle Size</th>\n",
       "      <th>Number of Open Complaints</th>\n",
       "      <th>Number of Policies</th>\n",
       "    </tr>\n",
       "  </thead>\n",
       "  <tbody>\n",
       "    <tr>\n",
       "      <th>0</th>\n",
       "      <td>Washington</td>\n",
       "      <td>No</td>\n",
       "      <td>Basic</td>\n",
       "      <td>Bachelor</td>\n",
       "      <td>Employed</td>\n",
       "      <td>F</td>\n",
       "      <td>Suburban</td>\n",
       "      <td>Married</td>\n",
       "      <td>Corporate Auto</td>\n",
       "      <td>Corporate L3</td>\n",
       "      <td>Offer1</td>\n",
       "      <td>Agent</td>\n",
       "      <td>Two-Door Car</td>\n",
       "      <td>Medsize</td>\n",
       "      <td>0</td>\n",
       "      <td>1</td>\n",
       "    </tr>\n",
       "    <tr>\n",
       "      <th>1</th>\n",
       "      <td>Arizona</td>\n",
       "      <td>No</td>\n",
       "      <td>Extended</td>\n",
       "      <td>Bachelor</td>\n",
       "      <td>Unemployed</td>\n",
       "      <td>F</td>\n",
       "      <td>Suburban</td>\n",
       "      <td>Single</td>\n",
       "      <td>Personal Auto</td>\n",
       "      <td>Personal L3</td>\n",
       "      <td>Offer3</td>\n",
       "      <td>Agent</td>\n",
       "      <td>Four-Door Car</td>\n",
       "      <td>Medsize</td>\n",
       "      <td>0</td>\n",
       "      <td>8</td>\n",
       "    </tr>\n",
       "    <tr>\n",
       "      <th>2</th>\n",
       "      <td>Nevada</td>\n",
       "      <td>No</td>\n",
       "      <td>Premium</td>\n",
       "      <td>Bachelor</td>\n",
       "      <td>Employed</td>\n",
       "      <td>F</td>\n",
       "      <td>Suburban</td>\n",
       "      <td>Married</td>\n",
       "      <td>Personal Auto</td>\n",
       "      <td>Personal L3</td>\n",
       "      <td>Offer1</td>\n",
       "      <td>Agent</td>\n",
       "      <td>Two-Door Car</td>\n",
       "      <td>Medsize</td>\n",
       "      <td>0</td>\n",
       "      <td>2</td>\n",
       "    </tr>\n",
       "    <tr>\n",
       "      <th>3</th>\n",
       "      <td>California</td>\n",
       "      <td>No</td>\n",
       "      <td>Basic</td>\n",
       "      <td>Bachelor</td>\n",
       "      <td>Unemployed</td>\n",
       "      <td>M</td>\n",
       "      <td>Suburban</td>\n",
       "      <td>Married</td>\n",
       "      <td>Corporate Auto</td>\n",
       "      <td>Corporate L2</td>\n",
       "      <td>Offer1</td>\n",
       "      <td>Call Center</td>\n",
       "      <td>SUV</td>\n",
       "      <td>Medsize</td>\n",
       "      <td>0</td>\n",
       "      <td>7</td>\n",
       "    </tr>\n",
       "    <tr>\n",
       "      <th>4</th>\n",
       "      <td>Washington</td>\n",
       "      <td>No</td>\n",
       "      <td>Basic</td>\n",
       "      <td>Bachelor</td>\n",
       "      <td>Employed</td>\n",
       "      <td>M</td>\n",
       "      <td>Rural</td>\n",
       "      <td>Single</td>\n",
       "      <td>Personal Auto</td>\n",
       "      <td>Personal L1</td>\n",
       "      <td>Offer1</td>\n",
       "      <td>Agent</td>\n",
       "      <td>Four-Door Car</td>\n",
       "      <td>Medsize</td>\n",
       "      <td>0</td>\n",
       "      <td>1</td>\n",
       "    </tr>\n",
       "  </tbody>\n",
       "</table>\n",
       "</div>"
      ],
      "text/plain": [
       "        State Response  Coverage Education EmploymentStatus Gender  \\\n",
       "0  Washington       No     Basic  Bachelor         Employed      F   \n",
       "1     Arizona       No  Extended  Bachelor       Unemployed      F   \n",
       "2      Nevada       No   Premium  Bachelor         Employed      F   \n",
       "3  California       No     Basic  Bachelor       Unemployed      M   \n",
       "4  Washington       No     Basic  Bachelor         Employed      M   \n",
       "\n",
       "  Location Code Marital Status     Policy Type        Policy Renew Offer Type  \\\n",
       "0      Suburban        Married  Corporate Auto  Corporate L3           Offer1   \n",
       "1      Suburban         Single   Personal Auto   Personal L3           Offer3   \n",
       "2      Suburban        Married   Personal Auto   Personal L3           Offer1   \n",
       "3      Suburban        Married  Corporate Auto  Corporate L2           Offer1   \n",
       "4         Rural         Single   Personal Auto   Personal L1           Offer1   \n",
       "\n",
       "  Sales Channel  Vehicle Class Vehicle Size  Number of Open Complaints  \\\n",
       "0         Agent   Two-Door Car      Medsize                          0   \n",
       "1         Agent  Four-Door Car      Medsize                          0   \n",
       "2         Agent   Two-Door Car      Medsize                          0   \n",
       "3   Call Center            SUV      Medsize                          0   \n",
       "4         Agent  Four-Door Car      Medsize                          0   \n",
       "\n",
       "   Number of Policies  \n",
       "0                   1  \n",
       "1                   8  \n",
       "2                   2  \n",
       "3                   7  \n",
       "4                   1  "
      ]
     },
     "execution_count": 70,
     "metadata": {},
     "output_type": "execute_result"
    }
   ],
   "source": [
    "cat_cols.head()"
   ]
  },
  {
   "cell_type": "code",
   "execution_count": 71,
   "id": "ad66eb5c",
   "metadata": {},
   "outputs": [
    {
     "data": {
      "text/html": [
       "<div>\n",
       "<style scoped>\n",
       "    .dataframe tbody tr th:only-of-type {\n",
       "        vertical-align: middle;\n",
       "    }\n",
       "\n",
       "    .dataframe tbody tr th {\n",
       "        vertical-align: top;\n",
       "    }\n",
       "\n",
       "    .dataframe thead th {\n",
       "        text-align: right;\n",
       "    }\n",
       "</style>\n",
       "<table border=\"1\" class=\"dataframe\">\n",
       "  <thead>\n",
       "    <tr style=\"text-align: right;\">\n",
       "      <th></th>\n",
       "      <th>CLV</th>\n",
       "      <th>Income</th>\n",
       "      <th>Monthly Premium Auto</th>\n",
       "      <th>Months Since Last Claim</th>\n",
       "      <th>Months Since Policy Inception</th>\n",
       "      <th>Total Claim Amount</th>\n",
       "    </tr>\n",
       "  </thead>\n",
       "  <tbody>\n",
       "    <tr>\n",
       "      <th>0</th>\n",
       "      <td>2763.519279</td>\n",
       "      <td>56274</td>\n",
       "      <td>69</td>\n",
       "      <td>32</td>\n",
       "      <td>5</td>\n",
       "      <td>384.811147</td>\n",
       "    </tr>\n",
       "    <tr>\n",
       "      <th>1</th>\n",
       "      <td>6979.535903</td>\n",
       "      <td>0</td>\n",
       "      <td>94</td>\n",
       "      <td>13</td>\n",
       "      <td>42</td>\n",
       "      <td>1131.464935</td>\n",
       "    </tr>\n",
       "    <tr>\n",
       "      <th>2</th>\n",
       "      <td>12887.431650</td>\n",
       "      <td>48767</td>\n",
       "      <td>108</td>\n",
       "      <td>18</td>\n",
       "      <td>38</td>\n",
       "      <td>566.472247</td>\n",
       "    </tr>\n",
       "    <tr>\n",
       "      <th>3</th>\n",
       "      <td>7645.861827</td>\n",
       "      <td>0</td>\n",
       "      <td>106</td>\n",
       "      <td>18</td>\n",
       "      <td>65</td>\n",
       "      <td>529.881344</td>\n",
       "    </tr>\n",
       "    <tr>\n",
       "      <th>4</th>\n",
       "      <td>2813.692575</td>\n",
       "      <td>43836</td>\n",
       "      <td>73</td>\n",
       "      <td>12</td>\n",
       "      <td>44</td>\n",
       "      <td>138.130879</td>\n",
       "    </tr>\n",
       "  </tbody>\n",
       "</table>\n",
       "</div>"
      ],
      "text/plain": [
       "            CLV  Income  Monthly Premium Auto  Months Since Last Claim  \\\n",
       "0   2763.519279   56274                    69                       32   \n",
       "1   6979.535903       0                    94                       13   \n",
       "2  12887.431650   48767                   108                       18   \n",
       "3   7645.861827       0                   106                       18   \n",
       "4   2813.692575   43836                    73                       12   \n",
       "\n",
       "   Months Since Policy Inception  Total Claim Amount  \n",
       "0                              5          384.811147  \n",
       "1                             42         1131.464935  \n",
       "2                             38          566.472247  \n",
       "3                             65          529.881344  \n",
       "4                             44          138.130879  "
      ]
     },
     "execution_count": 71,
     "metadata": {},
     "output_type": "execute_result"
    }
   ],
   "source": [
    "catg=pd.get_dummies(cat_cols,drop_first=True)\n",
    "numerical_cols.head()"
   ]
  },
  {
   "cell_type": "code",
   "execution_count": 72,
   "id": "943e9722",
   "metadata": {},
   "outputs": [
    {
     "data": {
      "text/html": [
       "<div>\n",
       "<style scoped>\n",
       "    .dataframe tbody tr th:only-of-type {\n",
       "        vertical-align: middle;\n",
       "    }\n",
       "\n",
       "    .dataframe tbody tr th {\n",
       "        vertical-align: top;\n",
       "    }\n",
       "\n",
       "    .dataframe thead th {\n",
       "        text-align: right;\n",
       "    }\n",
       "</style>\n",
       "<table border=\"1\" class=\"dataframe\">\n",
       "  <thead>\n",
       "    <tr style=\"text-align: right;\">\n",
       "      <th></th>\n",
       "      <th>CLV</th>\n",
       "      <th>Income</th>\n",
       "      <th>Monthly Premium Auto</th>\n",
       "      <th>Months Since Last Claim</th>\n",
       "      <th>Months Since Policy Inception</th>\n",
       "      <th>Total Claim Amount</th>\n",
       "      <th>Number of Open Complaints</th>\n",
       "      <th>Number of Policies</th>\n",
       "      <th>State_California</th>\n",
       "      <th>State_Nevada</th>\n",
       "      <th>...</th>\n",
       "      <th>Sales Channel_Branch</th>\n",
       "      <th>Sales Channel_Call Center</th>\n",
       "      <th>Sales Channel_Web</th>\n",
       "      <th>Vehicle Class_Luxury Car</th>\n",
       "      <th>Vehicle Class_Luxury SUV</th>\n",
       "      <th>Vehicle Class_SUV</th>\n",
       "      <th>Vehicle Class_Sports Car</th>\n",
       "      <th>Vehicle Class_Two-Door Car</th>\n",
       "      <th>Vehicle Size_Medsize</th>\n",
       "      <th>Vehicle Size_Small</th>\n",
       "    </tr>\n",
       "  </thead>\n",
       "  <tbody>\n",
       "    <tr>\n",
       "      <th>0</th>\n",
       "      <td>2763.519279</td>\n",
       "      <td>56274</td>\n",
       "      <td>69</td>\n",
       "      <td>32</td>\n",
       "      <td>5</td>\n",
       "      <td>384.811147</td>\n",
       "      <td>0</td>\n",
       "      <td>1</td>\n",
       "      <td>0</td>\n",
       "      <td>0</td>\n",
       "      <td>...</td>\n",
       "      <td>0</td>\n",
       "      <td>0</td>\n",
       "      <td>0</td>\n",
       "      <td>0</td>\n",
       "      <td>0</td>\n",
       "      <td>0</td>\n",
       "      <td>0</td>\n",
       "      <td>1</td>\n",
       "      <td>1</td>\n",
       "      <td>0</td>\n",
       "    </tr>\n",
       "    <tr>\n",
       "      <th>1</th>\n",
       "      <td>6979.535903</td>\n",
       "      <td>0</td>\n",
       "      <td>94</td>\n",
       "      <td>13</td>\n",
       "      <td>42</td>\n",
       "      <td>1131.464935</td>\n",
       "      <td>0</td>\n",
       "      <td>8</td>\n",
       "      <td>0</td>\n",
       "      <td>0</td>\n",
       "      <td>...</td>\n",
       "      <td>0</td>\n",
       "      <td>0</td>\n",
       "      <td>0</td>\n",
       "      <td>0</td>\n",
       "      <td>0</td>\n",
       "      <td>0</td>\n",
       "      <td>0</td>\n",
       "      <td>0</td>\n",
       "      <td>1</td>\n",
       "      <td>0</td>\n",
       "    </tr>\n",
       "    <tr>\n",
       "      <th>2</th>\n",
       "      <td>12887.431650</td>\n",
       "      <td>48767</td>\n",
       "      <td>108</td>\n",
       "      <td>18</td>\n",
       "      <td>38</td>\n",
       "      <td>566.472247</td>\n",
       "      <td>0</td>\n",
       "      <td>2</td>\n",
       "      <td>0</td>\n",
       "      <td>1</td>\n",
       "      <td>...</td>\n",
       "      <td>0</td>\n",
       "      <td>0</td>\n",
       "      <td>0</td>\n",
       "      <td>0</td>\n",
       "      <td>0</td>\n",
       "      <td>0</td>\n",
       "      <td>0</td>\n",
       "      <td>1</td>\n",
       "      <td>1</td>\n",
       "      <td>0</td>\n",
       "    </tr>\n",
       "    <tr>\n",
       "      <th>3</th>\n",
       "      <td>7645.861827</td>\n",
       "      <td>0</td>\n",
       "      <td>106</td>\n",
       "      <td>18</td>\n",
       "      <td>65</td>\n",
       "      <td>529.881344</td>\n",
       "      <td>0</td>\n",
       "      <td>7</td>\n",
       "      <td>1</td>\n",
       "      <td>0</td>\n",
       "      <td>...</td>\n",
       "      <td>0</td>\n",
       "      <td>1</td>\n",
       "      <td>0</td>\n",
       "      <td>0</td>\n",
       "      <td>0</td>\n",
       "      <td>1</td>\n",
       "      <td>0</td>\n",
       "      <td>0</td>\n",
       "      <td>1</td>\n",
       "      <td>0</td>\n",
       "    </tr>\n",
       "    <tr>\n",
       "      <th>4</th>\n",
       "      <td>2813.692575</td>\n",
       "      <td>43836</td>\n",
       "      <td>73</td>\n",
       "      <td>12</td>\n",
       "      <td>44</td>\n",
       "      <td>138.130879</td>\n",
       "      <td>0</td>\n",
       "      <td>1</td>\n",
       "      <td>0</td>\n",
       "      <td>0</td>\n",
       "      <td>...</td>\n",
       "      <td>0</td>\n",
       "      <td>0</td>\n",
       "      <td>0</td>\n",
       "      <td>0</td>\n",
       "      <td>0</td>\n",
       "      <td>0</td>\n",
       "      <td>0</td>\n",
       "      <td>0</td>\n",
       "      <td>1</td>\n",
       "      <td>0</td>\n",
       "    </tr>\n",
       "  </tbody>\n",
       "</table>\n",
       "<p>5 rows × 51 columns</p>\n",
       "</div>"
      ],
      "text/plain": [
       "            CLV  Income  Monthly Premium Auto  Months Since Last Claim  \\\n",
       "0   2763.519279   56274                    69                       32   \n",
       "1   6979.535903       0                    94                       13   \n",
       "2  12887.431650   48767                   108                       18   \n",
       "3   7645.861827       0                   106                       18   \n",
       "4   2813.692575   43836                    73                       12   \n",
       "\n",
       "   Months Since Policy Inception  Total Claim Amount  \\\n",
       "0                              5          384.811147   \n",
       "1                             42         1131.464935   \n",
       "2                             38          566.472247   \n",
       "3                             65          529.881344   \n",
       "4                             44          138.130879   \n",
       "\n",
       "   Number of Open Complaints  Number of Policies  State_California  \\\n",
       "0                          0                   1                 0   \n",
       "1                          0                   8                 0   \n",
       "2                          0                   2                 0   \n",
       "3                          0                   7                 1   \n",
       "4                          0                   1                 0   \n",
       "\n",
       "   State_Nevada  ...  Sales Channel_Branch  Sales Channel_Call Center  \\\n",
       "0             0  ...                     0                          0   \n",
       "1             0  ...                     0                          0   \n",
       "2             1  ...                     0                          0   \n",
       "3             0  ...                     0                          1   \n",
       "4             0  ...                     0                          0   \n",
       "\n",
       "   Sales Channel_Web  Vehicle Class_Luxury Car  Vehicle Class_Luxury SUV  \\\n",
       "0                  0                         0                         0   \n",
       "1                  0                         0                         0   \n",
       "2                  0                         0                         0   \n",
       "3                  0                         0                         0   \n",
       "4                  0                         0                         0   \n",
       "\n",
       "   Vehicle Class_SUV  Vehicle Class_Sports Car  Vehicle Class_Two-Door Car  \\\n",
       "0                  0                         0                           1   \n",
       "1                  0                         0                           0   \n",
       "2                  0                         0                           1   \n",
       "3                  1                         0                           0   \n",
       "4                  0                         0                           0   \n",
       "\n",
       "   Vehicle Size_Medsize  Vehicle Size_Small  \n",
       "0                     1                   0  \n",
       "1                     1                   0  \n",
       "2                     1                   0  \n",
       "3                     1                   0  \n",
       "4                     1                   0  \n",
       "\n",
       "[5 rows x 51 columns]"
      ]
     },
     "execution_count": 72,
     "metadata": {},
     "output_type": "execute_result"
    }
   ],
   "source": [
    "dfn = pd.concat([numerical_cols,catg],axis=1)\n",
    "dfn.head()"
   ]
  },
  {
   "cell_type": "code",
   "execution_count": 73,
   "id": "68f244d0",
   "metadata": {},
   "outputs": [
    {
     "data": {
      "text/html": [
       "<div>\n",
       "<style scoped>\n",
       "    .dataframe tbody tr th:only-of-type {\n",
       "        vertical-align: middle;\n",
       "    }\n",
       "\n",
       "    .dataframe tbody tr th {\n",
       "        vertical-align: top;\n",
       "    }\n",
       "\n",
       "    .dataframe thead th {\n",
       "        text-align: right;\n",
       "    }\n",
       "</style>\n",
       "<table border=\"1\" class=\"dataframe\">\n",
       "  <thead>\n",
       "    <tr style=\"text-align: right;\">\n",
       "      <th></th>\n",
       "      <th>CLV</th>\n",
       "      <th>Income</th>\n",
       "      <th>Monthly Premium Auto</th>\n",
       "      <th>Months Since Last Claim</th>\n",
       "      <th>Months Since Policy Inception</th>\n",
       "      <th>Total Claim Amount</th>\n",
       "      <th>Number of Open Complaints</th>\n",
       "      <th>Number of Policies</th>\n",
       "      <th>State_California</th>\n",
       "      <th>State_Nevada</th>\n",
       "      <th>...</th>\n",
       "      <th>Sales Channel_Branch</th>\n",
       "      <th>Sales Channel_Call Center</th>\n",
       "      <th>Sales Channel_Web</th>\n",
       "      <th>Vehicle Class_Luxury Car</th>\n",
       "      <th>Vehicle Class_Luxury SUV</th>\n",
       "      <th>Vehicle Class_SUV</th>\n",
       "      <th>Vehicle Class_Sports Car</th>\n",
       "      <th>Vehicle Class_Two-Door Car</th>\n",
       "      <th>Vehicle Size_Medsize</th>\n",
       "      <th>Vehicle Size_Small</th>\n",
       "    </tr>\n",
       "  </thead>\n",
       "  <tbody>\n",
       "    <tr>\n",
       "      <th>0</th>\n",
       "      <td>2763.519279</td>\n",
       "      <td>56274</td>\n",
       "      <td>69</td>\n",
       "      <td>32</td>\n",
       "      <td>5</td>\n",
       "      <td>384.811147</td>\n",
       "      <td>0</td>\n",
       "      <td>1</td>\n",
       "      <td>0</td>\n",
       "      <td>0</td>\n",
       "      <td>...</td>\n",
       "      <td>0</td>\n",
       "      <td>0</td>\n",
       "      <td>0</td>\n",
       "      <td>0</td>\n",
       "      <td>0</td>\n",
       "      <td>0</td>\n",
       "      <td>0</td>\n",
       "      <td>1</td>\n",
       "      <td>1</td>\n",
       "      <td>0</td>\n",
       "    </tr>\n",
       "    <tr>\n",
       "      <th>1</th>\n",
       "      <td>6979.535903</td>\n",
       "      <td>0</td>\n",
       "      <td>94</td>\n",
       "      <td>13</td>\n",
       "      <td>42</td>\n",
       "      <td>1131.464935</td>\n",
       "      <td>0</td>\n",
       "      <td>8</td>\n",
       "      <td>0</td>\n",
       "      <td>0</td>\n",
       "      <td>...</td>\n",
       "      <td>0</td>\n",
       "      <td>0</td>\n",
       "      <td>0</td>\n",
       "      <td>0</td>\n",
       "      <td>0</td>\n",
       "      <td>0</td>\n",
       "      <td>0</td>\n",
       "      <td>0</td>\n",
       "      <td>1</td>\n",
       "      <td>0</td>\n",
       "    </tr>\n",
       "    <tr>\n",
       "      <th>2</th>\n",
       "      <td>12887.431650</td>\n",
       "      <td>48767</td>\n",
       "      <td>108</td>\n",
       "      <td>18</td>\n",
       "      <td>38</td>\n",
       "      <td>566.472247</td>\n",
       "      <td>0</td>\n",
       "      <td>2</td>\n",
       "      <td>0</td>\n",
       "      <td>1</td>\n",
       "      <td>...</td>\n",
       "      <td>0</td>\n",
       "      <td>0</td>\n",
       "      <td>0</td>\n",
       "      <td>0</td>\n",
       "      <td>0</td>\n",
       "      <td>0</td>\n",
       "      <td>0</td>\n",
       "      <td>1</td>\n",
       "      <td>1</td>\n",
       "      <td>0</td>\n",
       "    </tr>\n",
       "    <tr>\n",
       "      <th>3</th>\n",
       "      <td>7645.861827</td>\n",
       "      <td>0</td>\n",
       "      <td>106</td>\n",
       "      <td>18</td>\n",
       "      <td>65</td>\n",
       "      <td>529.881344</td>\n",
       "      <td>0</td>\n",
       "      <td>7</td>\n",
       "      <td>1</td>\n",
       "      <td>0</td>\n",
       "      <td>...</td>\n",
       "      <td>0</td>\n",
       "      <td>1</td>\n",
       "      <td>0</td>\n",
       "      <td>0</td>\n",
       "      <td>0</td>\n",
       "      <td>1</td>\n",
       "      <td>0</td>\n",
       "      <td>0</td>\n",
       "      <td>1</td>\n",
       "      <td>0</td>\n",
       "    </tr>\n",
       "    <tr>\n",
       "      <th>4</th>\n",
       "      <td>2813.692575</td>\n",
       "      <td>43836</td>\n",
       "      <td>73</td>\n",
       "      <td>12</td>\n",
       "      <td>44</td>\n",
       "      <td>138.130879</td>\n",
       "      <td>0</td>\n",
       "      <td>1</td>\n",
       "      <td>0</td>\n",
       "      <td>0</td>\n",
       "      <td>...</td>\n",
       "      <td>0</td>\n",
       "      <td>0</td>\n",
       "      <td>0</td>\n",
       "      <td>0</td>\n",
       "      <td>0</td>\n",
       "      <td>0</td>\n",
       "      <td>0</td>\n",
       "      <td>0</td>\n",
       "      <td>1</td>\n",
       "      <td>0</td>\n",
       "    </tr>\n",
       "  </tbody>\n",
       "</table>\n",
       "<p>5 rows × 51 columns</p>\n",
       "</div>"
      ],
      "text/plain": [
       "            CLV  Income  Monthly Premium Auto  Months Since Last Claim  \\\n",
       "0   2763.519279   56274                    69                       32   \n",
       "1   6979.535903       0                    94                       13   \n",
       "2  12887.431650   48767                   108                       18   \n",
       "3   7645.861827       0                   106                       18   \n",
       "4   2813.692575   43836                    73                       12   \n",
       "\n",
       "   Months Since Policy Inception  Total Claim Amount  \\\n",
       "0                              5          384.811147   \n",
       "1                             42         1131.464935   \n",
       "2                             38          566.472247   \n",
       "3                             65          529.881344   \n",
       "4                             44          138.130879   \n",
       "\n",
       "   Number of Open Complaints  Number of Policies  State_California  \\\n",
       "0                          0                   1                 0   \n",
       "1                          0                   8                 0   \n",
       "2                          0                   2                 0   \n",
       "3                          0                   7                 1   \n",
       "4                          0                   1                 0   \n",
       "\n",
       "   State_Nevada  ...  Sales Channel_Branch  Sales Channel_Call Center  \\\n",
       "0             0  ...                     0                          0   \n",
       "1             0  ...                     0                          0   \n",
       "2             1  ...                     0                          0   \n",
       "3             0  ...                     0                          1   \n",
       "4             0  ...                     0                          0   \n",
       "\n",
       "   Sales Channel_Web  Vehicle Class_Luxury Car  Vehicle Class_Luxury SUV  \\\n",
       "0                  0                         0                         0   \n",
       "1                  0                         0                         0   \n",
       "2                  0                         0                         0   \n",
       "3                  0                         0                         0   \n",
       "4                  0                         0                         0   \n",
       "\n",
       "   Vehicle Class_SUV  Vehicle Class_Sports Car  Vehicle Class_Two-Door Car  \\\n",
       "0                  0                         0                           1   \n",
       "1                  0                         0                           0   \n",
       "2                  0                         0                           1   \n",
       "3                  1                         0                           0   \n",
       "4                  0                         0                           0   \n",
       "\n",
       "   Vehicle Size_Medsize  Vehicle Size_Small  \n",
       "0                     1                   0  \n",
       "1                     1                   0  \n",
       "2                     1                   0  \n",
       "3                     1                   0  \n",
       "4                     1                   0  \n",
       "\n",
       "[5 rows x 51 columns]"
      ]
     },
     "execution_count": 73,
     "metadata": {},
     "output_type": "execute_result"
    }
   ],
   "source": [
    "dfn = pd.concat([numerical_cols,catg],axis=1)\n",
    "dfn.head()"
   ]
  },
  {
   "cell_type": "markdown",
   "id": "05cda740",
   "metadata": {},
   "source": [
    "# OLS Model"
   ]
  },
  {
   "cell_type": "code",
   "execution_count": 74,
   "id": "8ded650a",
   "metadata": {},
   "outputs": [
    {
     "data": {
      "text/html": [
       "<table class=\"simpletable\">\n",
       "<caption>OLS Regression Results</caption>\n",
       "<tr>\n",
       "  <th>Dep. Variable:</th>           <td>CLV</td>       <th>  R-squared:         </th> <td>   0.169</td> \n",
       "</tr>\n",
       "<tr>\n",
       "  <th>Model:</th>                   <td>OLS</td>       <th>  Adj. R-squared:    </th> <td>   0.165</td> \n",
       "</tr>\n",
       "<tr>\n",
       "  <th>Method:</th>             <td>Least Squares</td>  <th>  F-statistic:       </th> <td>   38.60</td> \n",
       "</tr>\n",
       "<tr>\n",
       "  <th>Date:</th>             <td>Wed, 21 Jun 2023</td> <th>  Prob (F-statistic):</th> <td>6.92e-323</td>\n",
       "</tr>\n",
       "<tr>\n",
       "  <th>Time:</th>                 <td>19:24:20</td>     <th>  Log-Likelihood:    </th> <td> -92812.</td> \n",
       "</tr>\n",
       "<tr>\n",
       "  <th>No. Observations:</th>      <td>  9134</td>      <th>  AIC:               </th> <td>1.857e+05</td>\n",
       "</tr>\n",
       "<tr>\n",
       "  <th>Df Residuals:</th>          <td>  9085</td>      <th>  BIC:               </th> <td>1.861e+05</td>\n",
       "</tr>\n",
       "<tr>\n",
       "  <th>Df Model:</th>              <td>    48</td>      <th>                     </th>     <td> </td>    \n",
       "</tr>\n",
       "<tr>\n",
       "  <th>Covariance Type:</th>      <td>nonrobust</td>    <th>                     </th>     <td> </td>    \n",
       "</tr>\n",
       "</table>\n",
       "<table class=\"simpletable\">\n",
       "<tr>\n",
       "                 <td></td>                   <th>coef</th>     <th>std err</th>      <th>t</th>      <th>P>|t|</th>  <th>[0.025</th>    <th>0.975]</th>  \n",
       "</tr>\n",
       "<tr>\n",
       "  <th>const</th>                          <td> 1486.6386</td> <td>  903.661</td> <td>    1.645</td> <td> 0.100</td> <td> -284.740</td> <td> 3258.017</td>\n",
       "</tr>\n",
       "<tr>\n",
       "  <th>Income</th>                         <td>   -0.0012</td> <td>    0.004</td> <td>   -0.307</td> <td> 0.759</td> <td>   -0.009</td> <td>    0.006</td>\n",
       "</tr>\n",
       "<tr>\n",
       "  <th>Monthly Premium Auto</th>           <td>   69.5779</td> <td>   10.026</td> <td>    6.940</td> <td> 0.000</td> <td>   49.926</td> <td>   89.230</td>\n",
       "</tr>\n",
       "<tr>\n",
       "  <th>Months Since Last Claim</th>        <td>    7.0626</td> <td>    6.554</td> <td>    1.078</td> <td> 0.281</td> <td>   -5.785</td> <td>   19.911</td>\n",
       "</tr>\n",
       "<tr>\n",
       "  <th>Months Since Policy Inception</th>  <td>   -1.3200</td> <td>    2.380</td> <td>   -0.555</td> <td> 0.579</td> <td>   -5.985</td> <td>    3.345</td>\n",
       "</tr>\n",
       "<tr>\n",
       "  <th>Total Claim Amount</th>             <td>   -0.2268</td> <td>    0.474</td> <td>   -0.478</td> <td> 0.632</td> <td>   -1.156</td> <td>    0.703</td>\n",
       "</tr>\n",
       "<tr>\n",
       "  <th>Number of Open Complaints</th>      <td> -264.2647</td> <td>   72.496</td> <td>   -3.645</td> <td> 0.000</td> <td> -406.373</td> <td> -122.157</td>\n",
       "</tr>\n",
       "<tr>\n",
       "  <th>Number of Policies</th>             <td>   57.7126</td> <td>   27.753</td> <td>    2.080</td> <td> 0.038</td> <td>    3.311</td> <td>  112.114</td>\n",
       "</tr>\n",
       "<tr>\n",
       "  <th>State_California</th>               <td>   39.9647</td> <td>  189.426</td> <td>    0.211</td> <td> 0.833</td> <td> -331.354</td> <td>  411.283</td>\n",
       "</tr>\n",
       "<tr>\n",
       "  <th>State_Nevada</th>                   <td>   45.7021</td> <td>  261.160</td> <td>    0.175</td> <td> 0.861</td> <td> -466.231</td> <td>  557.635</td>\n",
       "</tr>\n",
       "<tr>\n",
       "  <th>State_Oregon</th>                   <td>   84.9912</td> <td>  196.050</td> <td>    0.434</td> <td> 0.665</td> <td> -299.312</td> <td>  469.294</td>\n",
       "</tr>\n",
       "<tr>\n",
       "  <th>State_Washington</th>               <td>  164.3324</td> <td>  269.980</td> <td>    0.609</td> <td> 0.543</td> <td> -364.888</td> <td>  693.553</td>\n",
       "</tr>\n",
       "<tr>\n",
       "  <th>Response_Yes</th>                   <td> -215.9162</td> <td>  207.436</td> <td>   -1.041</td> <td> 0.298</td> <td> -622.538</td> <td>  190.705</td>\n",
       "</tr>\n",
       "<tr>\n",
       "  <th>Coverage_Extended</th>              <td>  130.1678</td> <td>  249.287</td> <td>    0.522</td> <td> 0.602</td> <td> -358.490</td> <td>  618.826</td>\n",
       "</tr>\n",
       "<tr>\n",
       "  <th>Coverage_Premium</th>               <td>   61.7491</td> <td>  527.605</td> <td>    0.117</td> <td> 0.907</td> <td> -972.476</td> <td> 1095.974</td>\n",
       "</tr>\n",
       "<tr>\n",
       "  <th>Education_College</th>              <td>   -1.5962</td> <td>  171.219</td> <td>   -0.009</td> <td> 0.993</td> <td> -337.225</td> <td>  334.032</td>\n",
       "</tr>\n",
       "<tr>\n",
       "  <th>Education_Doctor</th>               <td> -197.9744</td> <td>  362.976</td> <td>   -0.545</td> <td> 0.585</td> <td> -909.488</td> <td>  513.540</td>\n",
       "</tr>\n",
       "<tr>\n",
       "  <th>Education_High School or Below</th> <td>  388.9735</td> <td>  173.415</td> <td>    2.243</td> <td> 0.025</td> <td>   49.041</td> <td>  728.906</td>\n",
       "</tr>\n",
       "<tr>\n",
       "  <th>Education_Master</th>               <td>  157.9503</td> <td>  262.899</td> <td>    0.601</td> <td> 0.548</td> <td> -357.390</td> <td>  673.291</td>\n",
       "</tr>\n",
       "<tr>\n",
       "  <th>EmploymentStatus_Employed</th>      <td>  700.4418</td> <td>  354.477</td> <td>    1.976</td> <td> 0.048</td> <td>    5.587</td> <td> 1395.296</td>\n",
       "</tr>\n",
       "<tr>\n",
       "  <th>EmploymentStatus_Medical Leave</th> <td>  210.8226</td> <td>  436.143</td> <td>    0.483</td> <td> 0.629</td> <td> -644.116</td> <td> 1065.761</td>\n",
       "</tr>\n",
       "<tr>\n",
       "  <th>EmploymentStatus_Retired</th>       <td>   64.6393</td> <td>  502.732</td> <td>    0.129</td> <td> 0.898</td> <td> -920.829</td> <td> 1050.108</td>\n",
       "</tr>\n",
       "<tr>\n",
       "  <th>EmploymentStatus_Unemployed</th>    <td>    9.1563</td> <td>  357.613</td> <td>    0.026</td> <td> 0.980</td> <td> -691.846</td> <td>  710.158</td>\n",
       "</tr>\n",
       "<tr>\n",
       "  <th>Gender_M</th>                       <td> -143.5239</td> <td>  132.973</td> <td>   -1.079</td> <td> 0.280</td> <td> -404.181</td> <td>  117.133</td>\n",
       "</tr>\n",
       "<tr>\n",
       "  <th>Location Code_Suburban</th>         <td>  -73.7895</td> <td>  263.381</td> <td>   -0.280</td> <td> 0.779</td> <td> -590.076</td> <td>  442.497</td>\n",
       "</tr>\n",
       "<tr>\n",
       "  <th>Location Code_Urban</th>            <td>  128.8756</td> <td>  241.416</td> <td>    0.534</td> <td> 0.593</td> <td> -344.355</td> <td>  602.106</td>\n",
       "</tr>\n",
       "<tr>\n",
       "  <th>Marital Status_Married</th>         <td> -177.6388</td> <td>  194.800</td> <td>   -0.912</td> <td> 0.362</td> <td> -559.490</td> <td>  204.212</td>\n",
       "</tr>\n",
       "<tr>\n",
       "  <th>Marital Status_Single</th>          <td> -490.7108</td> <td>  225.714</td> <td>   -2.174</td> <td> 0.030</td> <td> -933.161</td> <td>  -48.260</td>\n",
       "</tr>\n",
       "<tr>\n",
       "  <th>Policy Type_Personal Auto</th>      <td> -305.6726</td> <td>  256.741</td> <td>   -1.191</td> <td> 0.234</td> <td> -808.943</td> <td>  197.598</td>\n",
       "</tr>\n",
       "<tr>\n",
       "  <th>Policy Type_Special Auto</th>       <td>  165.6132</td> <td>  362.670</td> <td>    0.457</td> <td> 0.648</td> <td> -545.301</td> <td>  876.527</td>\n",
       "</tr>\n",
       "<tr>\n",
       "  <th>Policy_Corporate L2</th>            <td>-1007.2895</td> <td>  420.508</td> <td>   -2.395</td> <td> 0.017</td> <td>-1831.581</td> <td> -182.998</td>\n",
       "</tr>\n",
       "<tr>\n",
       "  <th>Policy_Corporate L3</th>            <td> -668.9524</td> <td>  386.386</td> <td>   -1.731</td> <td> 0.083</td> <td>-1426.357</td> <td>   88.452</td>\n",
       "</tr>\n",
       "<tr>\n",
       "  <th>Policy_Personal L1</th>             <td> -161.3307</td> <td>  163.621</td> <td>   -0.986</td> <td> 0.324</td> <td> -482.065</td> <td>  159.404</td>\n",
       "</tr>\n",
       "<tr>\n",
       "  <th>Policy_Personal L2</th>             <td>   -6.5954</td> <td>  141.822</td> <td>   -0.047</td> <td> 0.963</td> <td> -284.598</td> <td>  271.408</td>\n",
       "</tr>\n",
       "<tr>\n",
       "  <th>Policy_Personal L3</th>             <td> -137.7465</td> <td>  128.664</td> <td>   -1.071</td> <td> 0.284</td> <td> -389.957</td> <td>  114.464</td>\n",
       "</tr>\n",
       "<tr>\n",
       "  <th>Policy_Special L1</th>              <td>   27.9113</td> <td>  613.988</td> <td>    0.045</td> <td> 0.964</td> <td>-1175.643</td> <td> 1231.465</td>\n",
       "</tr>\n",
       "<tr>\n",
       "  <th>Policy_Special L2</th>              <td> -334.1257</td> <td>  443.941</td> <td>   -0.753</td> <td> 0.452</td> <td>-1204.351</td> <td>  536.099</td>\n",
       "</tr>\n",
       "<tr>\n",
       "  <th>Policy_Special L3</th>              <td>  471.8275</td> <td>  458.306</td> <td>    1.030</td> <td> 0.303</td> <td> -426.556</td> <td> 1370.211</td>\n",
       "</tr>\n",
       "<tr>\n",
       "  <th>Renew Offer Type_Offer2</th>        <td> -965.7715</td> <td>  165.363</td> <td>   -5.840</td> <td> 0.000</td> <td>-1289.920</td> <td> -641.623</td>\n",
       "</tr>\n",
       "<tr>\n",
       "  <th>Renew Offer Type_Offer3</th>        <td> -535.2550</td> <td>  200.282</td> <td>   -2.673</td> <td> 0.008</td> <td> -927.853</td> <td> -142.657</td>\n",
       "</tr>\n",
       "<tr>\n",
       "  <th>Renew Offer Type_Offer4</th>        <td>-1196.6484</td> <td>  233.357</td> <td>   -5.128</td> <td> 0.000</td> <td>-1654.080</td> <td> -739.217</td>\n",
       "</tr>\n",
       "<tr>\n",
       "  <th>Sales Channel_Branch</th>           <td>  227.6845</td> <td>  164.822</td> <td>    1.381</td> <td> 0.167</td> <td>  -95.404</td> <td>  550.773</td>\n",
       "</tr>\n",
       "<tr>\n",
       "  <th>Sales Channel_Call Center</th>      <td>  350.0434</td> <td>  186.196</td> <td>    1.880</td> <td> 0.060</td> <td>  -14.942</td> <td>  715.029</td>\n",
       "</tr>\n",
       "<tr>\n",
       "  <th>Sales Channel_Web</th>              <td>   56.3085</td> <td>  206.103</td> <td>    0.273</td> <td> 0.785</td> <td> -347.701</td> <td>  460.318</td>\n",
       "</tr>\n",
       "<tr>\n",
       "  <th>Vehicle Class_Luxury Car</th>       <td> 1193.8204</td> <td> 1384.216</td> <td>    0.862</td> <td> 0.388</td> <td>-1519.555</td> <td> 3907.196</td>\n",
       "</tr>\n",
       "<tr>\n",
       "  <th>Vehicle Class_Luxury SUV</th>       <td> 1160.9889</td> <td> 1372.147</td> <td>    0.846</td> <td> 0.398</td> <td>-1528.728</td> <td> 3850.706</td>\n",
       "</tr>\n",
       "<tr>\n",
       "  <th>Vehicle Class_SUV</th>              <td>  790.4905</td> <td>  457.031</td> <td>    1.730</td> <td> 0.084</td> <td> -105.394</td> <td> 1686.375</td>\n",
       "</tr>\n",
       "<tr>\n",
       "  <th>Vehicle Class_Sports Car</th>       <td> 1020.0479</td> <td>  526.252</td> <td>    1.938</td> <td> 0.053</td> <td>  -11.524</td> <td> 2051.620</td>\n",
       "</tr>\n",
       "<tr>\n",
       "  <th>Vehicle Class_Two-Door Car</th>     <td>  110.3101</td> <td>  172.088</td> <td>    0.641</td> <td> 0.522</td> <td> -227.021</td> <td>  447.642</td>\n",
       "</tr>\n",
       "<tr>\n",
       "  <th>Vehicle Size_Medsize</th>           <td>  304.2439</td> <td>  219.734</td> <td>    1.385</td> <td> 0.166</td> <td> -126.483</td> <td>  734.971</td>\n",
       "</tr>\n",
       "<tr>\n",
       "  <th>Vehicle Size_Small</th>             <td>  438.6969</td> <td>  255.673</td> <td>    1.716</td> <td> 0.086</td> <td>  -62.480</td> <td>  939.874</td>\n",
       "</tr>\n",
       "</table>\n",
       "<table class=\"simpletable\">\n",
       "<tr>\n",
       "  <th>Omnibus:</th>       <td>5666.276</td> <th>  Durbin-Watson:     </th> <td>   1.995</td> \n",
       "</tr>\n",
       "<tr>\n",
       "  <th>Prob(Omnibus):</th>  <td> 0.000</td>  <th>  Jarque-Bera (JB):  </th> <td>65051.545</td>\n",
       "</tr>\n",
       "<tr>\n",
       "  <th>Skew:</th>           <td> 2.849</td>  <th>  Prob(JB):          </th> <td>    0.00</td> \n",
       "</tr>\n",
       "<tr>\n",
       "  <th>Kurtosis:</th>       <td>14.767</td>  <th>  Cond. No.          </th> <td>1.29e+16</td> \n",
       "</tr>\n",
       "</table><br/><br/>Notes:<br/>[1] Standard Errors assume that the covariance matrix of the errors is correctly specified.<br/>[2] The smallest eigenvalue is 1.29e-19. This might indicate that there are<br/>strong multicollinearity problems or that the design matrix is singular."
      ],
      "text/plain": [
       "<class 'statsmodels.iolib.summary.Summary'>\n",
       "\"\"\"\n",
       "                            OLS Regression Results                            \n",
       "==============================================================================\n",
       "Dep. Variable:                    CLV   R-squared:                       0.169\n",
       "Model:                            OLS   Adj. R-squared:                  0.165\n",
       "Method:                 Least Squares   F-statistic:                     38.60\n",
       "Date:                Wed, 21 Jun 2023   Prob (F-statistic):          6.92e-323\n",
       "Time:                        19:24:20   Log-Likelihood:                -92812.\n",
       "No. Observations:                9134   AIC:                         1.857e+05\n",
       "Df Residuals:                    9085   BIC:                         1.861e+05\n",
       "Df Model:                          48                                         \n",
       "Covariance Type:            nonrobust                                         \n",
       "==================================================================================================\n",
       "                                     coef    std err          t      P>|t|      [0.025      0.975]\n",
       "--------------------------------------------------------------------------------------------------\n",
       "const                           1486.6386    903.661      1.645      0.100    -284.740    3258.017\n",
       "Income                            -0.0012      0.004     -0.307      0.759      -0.009       0.006\n",
       "Monthly Premium Auto              69.5779     10.026      6.940      0.000      49.926      89.230\n",
       "Months Since Last Claim            7.0626      6.554      1.078      0.281      -5.785      19.911\n",
       "Months Since Policy Inception     -1.3200      2.380     -0.555      0.579      -5.985       3.345\n",
       "Total Claim Amount                -0.2268      0.474     -0.478      0.632      -1.156       0.703\n",
       "Number of Open Complaints       -264.2647     72.496     -3.645      0.000    -406.373    -122.157\n",
       "Number of Policies                57.7126     27.753      2.080      0.038       3.311     112.114\n",
       "State_California                  39.9647    189.426      0.211      0.833    -331.354     411.283\n",
       "State_Nevada                      45.7021    261.160      0.175      0.861    -466.231     557.635\n",
       "State_Oregon                      84.9912    196.050      0.434      0.665    -299.312     469.294\n",
       "State_Washington                 164.3324    269.980      0.609      0.543    -364.888     693.553\n",
       "Response_Yes                    -215.9162    207.436     -1.041      0.298    -622.538     190.705\n",
       "Coverage_Extended                130.1678    249.287      0.522      0.602    -358.490     618.826\n",
       "Coverage_Premium                  61.7491    527.605      0.117      0.907    -972.476    1095.974\n",
       "Education_College                 -1.5962    171.219     -0.009      0.993    -337.225     334.032\n",
       "Education_Doctor                -197.9744    362.976     -0.545      0.585    -909.488     513.540\n",
       "Education_High School or Below   388.9735    173.415      2.243      0.025      49.041     728.906\n",
       "Education_Master                 157.9503    262.899      0.601      0.548    -357.390     673.291\n",
       "EmploymentStatus_Employed        700.4418    354.477      1.976      0.048       5.587    1395.296\n",
       "EmploymentStatus_Medical Leave   210.8226    436.143      0.483      0.629    -644.116    1065.761\n",
       "EmploymentStatus_Retired          64.6393    502.732      0.129      0.898    -920.829    1050.108\n",
       "EmploymentStatus_Unemployed        9.1563    357.613      0.026      0.980    -691.846     710.158\n",
       "Gender_M                        -143.5239    132.973     -1.079      0.280    -404.181     117.133\n",
       "Location Code_Suburban           -73.7895    263.381     -0.280      0.779    -590.076     442.497\n",
       "Location Code_Urban              128.8756    241.416      0.534      0.593    -344.355     602.106\n",
       "Marital Status_Married          -177.6388    194.800     -0.912      0.362    -559.490     204.212\n",
       "Marital Status_Single           -490.7108    225.714     -2.174      0.030    -933.161     -48.260\n",
       "Policy Type_Personal Auto       -305.6726    256.741     -1.191      0.234    -808.943     197.598\n",
       "Policy Type_Special Auto         165.6132    362.670      0.457      0.648    -545.301     876.527\n",
       "Policy_Corporate L2            -1007.2895    420.508     -2.395      0.017   -1831.581    -182.998\n",
       "Policy_Corporate L3             -668.9524    386.386     -1.731      0.083   -1426.357      88.452\n",
       "Policy_Personal L1              -161.3307    163.621     -0.986      0.324    -482.065     159.404\n",
       "Policy_Personal L2                -6.5954    141.822     -0.047      0.963    -284.598     271.408\n",
       "Policy_Personal L3              -137.7465    128.664     -1.071      0.284    -389.957     114.464\n",
       "Policy_Special L1                 27.9113    613.988      0.045      0.964   -1175.643    1231.465\n",
       "Policy_Special L2               -334.1257    443.941     -0.753      0.452   -1204.351     536.099\n",
       "Policy_Special L3                471.8275    458.306      1.030      0.303    -426.556    1370.211\n",
       "Renew Offer Type_Offer2         -965.7715    165.363     -5.840      0.000   -1289.920    -641.623\n",
       "Renew Offer Type_Offer3         -535.2550    200.282     -2.673      0.008    -927.853    -142.657\n",
       "Renew Offer Type_Offer4        -1196.6484    233.357     -5.128      0.000   -1654.080    -739.217\n",
       "Sales Channel_Branch             227.6845    164.822      1.381      0.167     -95.404     550.773\n",
       "Sales Channel_Call Center        350.0434    186.196      1.880      0.060     -14.942     715.029\n",
       "Sales Channel_Web                 56.3085    206.103      0.273      0.785    -347.701     460.318\n",
       "Vehicle Class_Luxury Car        1193.8204   1384.216      0.862      0.388   -1519.555    3907.196\n",
       "Vehicle Class_Luxury SUV        1160.9889   1372.147      0.846      0.398   -1528.728    3850.706\n",
       "Vehicle Class_SUV                790.4905    457.031      1.730      0.084    -105.394    1686.375\n",
       "Vehicle Class_Sports Car        1020.0479    526.252      1.938      0.053     -11.524    2051.620\n",
       "Vehicle Class_Two-Door Car       110.3101    172.088      0.641      0.522    -227.021     447.642\n",
       "Vehicle Size_Medsize             304.2439    219.734      1.385      0.166    -126.483     734.971\n",
       "Vehicle Size_Small               438.6969    255.673      1.716      0.086     -62.480     939.874\n",
       "==============================================================================\n",
       "Omnibus:                     5666.276   Durbin-Watson:                   1.995\n",
       "Prob(Omnibus):                  0.000   Jarque-Bera (JB):            65051.545\n",
       "Skew:                           2.849   Prob(JB):                         0.00\n",
       "Kurtosis:                      14.767   Cond. No.                     1.29e+16\n",
       "==============================================================================\n",
       "\n",
       "Notes:\n",
       "[1] Standard Errors assume that the covariance matrix of the errors is correctly specified.\n",
       "[2] The smallest eigenvalue is 1.29e-19. This might indicate that there are\n",
       "strong multicollinearity problems or that the design matrix is singular.\n",
       "\"\"\""
      ]
     },
     "execution_count": 74,
     "metadata": {},
     "output_type": "execute_result"
    }
   ],
   "source": [
    "dfn.rename(columns={'CLV':'CLV'},inplace=True)\n",
    "X=dfn.drop(['CLV'],axis=1)\n",
    "y=dfn['CLV']\n",
    "X_constant=sm.add_constant(X)\n",
    "lin_reg=sm.OLS(y,X_constant).fit()\n",
    "lin_reg.summary()"
   ]
  },
  {
   "cell_type": "markdown",
   "id": "4dc9dc50",
   "metadata": {},
   "source": [
    "# Assumptions"
   ]
  },
  {
   "cell_type": "markdown",
   "id": "40f97a84",
   "metadata": {},
   "source": [
    "No autocorrelation, Linearity of residuals, Normality of error terms, No Heteroscedacity, No strong MultiCollinearity.\n",
    "\n",
    "Assumption 1 No Auto correlation.\n",
    "\n",
    "Test needed : Durbin- Watson Test.\n",
    "\n",
    "It's value ranges from 0-4. If the value of Durbin- Watson is Between 0-2, it's known as Positive Autocorrelation. If the value ranges from 2-4, it is known as Negative autocorrelation. If the value is exactly 2, it means No Autocorrelation. For a good linear model, it should have low or no autocorrelation. we can see here the values of dublin watson test: 1.995 (No AUTO-CORRELATION)\n",
    "\n",
    "From the graph below, we can easily see that there is no autocorrelation."
   ]
  },
  {
   "cell_type": "code",
   "execution_count": 75,
   "id": "0e6143c2",
   "metadata": {},
   "outputs": [
    {
     "data": {
      "image/png": "[encoded data removed]",
      "text/plain": [
       "<Figure size 640x480 with 1 Axes>"
      ]
     },
     "metadata": {},
     "output_type": "display_data"
    }
   ],
   "source": [
    "import statsmodels.tsa.api as smt #timeseries analysis\n",
    "\n",
    "acf = smt.graphics.plot_acf(lin_reg.resid, lags=40 , alpha=0.05)#auto_correlation value, lags= previous value\n",
    "acf.show()"
   ]
  },
  {
   "cell_type": "markdown",
   "id": "de75e9ad",
   "metadata": {},
   "source": [
    "Assumption 2- Normality of Residuals: The second assumption is that residuals and error terms are normal.\n",
    "\n",
    "We favor the Jarque Bera test for this. Normal distribution of the residuals is required for a successful model. The normal distribution of the residuals decreases with increasing Jarque Bera test value. We generally favor a lower jarque bera test value.\n",
    "\n",
    "A goodness-of-fit test, the Jarque–Bera test, is used to determine whether sample data's kurtosis and skewness are consistent with a normal distribution. Non-normality is indicated by the jarque-bera test's large value.\n",
    "\n",
    "The jarque bera test determines whether the kurtosis and skewness of the sample data are consistent with a normal distribution. Because the test statistics asymptotically have a chi squared distribution with degrees of freedom of two, it is important to keep in mind that this test generally performs well when there are a sufficient number of data samples (>2000).\n",
    "\n",
    "H0: the error terms are normally distributed\n",
    "\n",
    "dof for residuals is n-2"
   ]
  },
  {
   "cell_type": "code",
   "execution_count": 76,
   "id": "7bc31c5f",
   "metadata": {},
   "outputs": [
    {
     "name": "stdout",
     "output_type": "stream",
     "text": [
      "Jarque_beraResult(statistic=65051.54524138238, pvalue=0.0)\n"
     ]
    }
   ],
   "source": [
    "from scipy import stats\n",
    "print(stats.jarque_bera(lin_reg.resid))"
   ]
  },
  {
   "cell_type": "markdown",
   "id": "729b9257",
   "metadata": {},
   "source": [
    "At the 5% level of significance, the critical chi square value is 5.99. The null hypothesis is rejected if the computed value is higher than this value. In this instance, the JB statistic's computed value of 65051.11 is greater than 5.99. The null hypothesis that the error terms are normally distributed is therefore rejected."
   ]
  },
  {
   "cell_type": "code",
   "execution_count": 78,
   "id": "8e50f5e4",
   "metadata": {},
   "outputs": [
    {
     "data": {
      "image/png": "[encoded data removed]",
      "text/plain": [
       "<Figure size 640x480 with 1 Axes>"
      ]
     },
     "metadata": {},
     "output_type": "display_data"
    }
   ],
   "source": [
    "import seaborn as sns\n",
    "\n",
    "sns.distplot(lin_reg.resid)\n",
    "plt.show()"
   ]
  },
  {
   "cell_type": "markdown",
   "id": "bc05361e",
   "metadata": {},
   "source": [
    "Due to the high value of the Jarque Bera test, we infer from the graph that only a small number of residuals are normally distributed.\n",
    "\n",
    "Asssumption 3 - Linearity of residuals: We have two choices here. We can either see the linearity of residuals by plotting the observed values against the predicted values or the residuals against the predicted values. OR, we can take the rainbow exam. Let's take a look at each one separately."
   ]
  },
  {
   "cell_type": "code",
   "execution_count": 79,
   "id": "8772780b",
   "metadata": {},
   "outputs": [
    {
     "data": {
      "text/plain": [
       "(1.0164972729968935, 0.2907128743692436)"
      ]
     },
     "execution_count": 79,
     "metadata": {},
     "output_type": "execute_result"
    }
   ],
   "source": [
    "import statsmodels.api as sm\n",
    "sm.stats.diagnostic.linear_rainbow(res=lin_reg, frac=0.5)#the fraction of the data to include in the center model|"
   ]
  },
  {
   "cell_type": "markdown",
   "id": "4989b058",
   "metadata": {},
   "source": [
    "H0:The data is linear, pvalue > 0.05 failed to reject H0, here we failed to reject H0 so residuals are normally distributed."
   ]
  },
  {
   "cell_type": "code",
   "execution_count": 81,
   "id": "88a2ee0a",
   "metadata": {},
   "outputs": [
    {
     "data": {
      "text/plain": [
       "1.65127171999755e-09"
      ]
     },
     "execution_count": 81,
     "metadata": {},
     "output_type": "execute_result"
    }
   ],
   "source": [
    "lin_reg.resid.mean()"
   ]
  },
  {
   "cell_type": "markdown",
   "id": "df8a06b9",
   "metadata": {},
   "source": [
    "Assumption 4 - Homoscedasticity_test(using goldfeld test) OR (Beusch-Wagon Test) Homoscedacity :: Assuming the change of the residuals are evenly appropriated across the relapse line , then the information is said to homoscedastic.\n",
    "\n",
    "The heteroscedacity: The data are said to be heteroscedastic if the variance for the residuals across the regression line is unequal. The residuals can take any non-symmetrical shape in this case, including an arrow.\n",
    "\n",
    "The hypothesis testing, where the null and alternate hypotheses are: The residuals ought to be homoscedastiac. H0:ui is constant across the data range. H:ui is not constant across the data range."
   ]
  },
  {
   "cell_type": "markdown",
   "id": "55ccd38c",
   "metadata": {},
   "source": [
    "# Goldfeld Test"
   ]
  },
  {
   "cell_type": "code",
   "execution_count": 82,
   "id": "c94c9fc6",
   "metadata": {},
   "outputs": [
    {
     "data": {
      "text/plain": [
       "(1.2289680194898225, 2.216740369946362e-12, 'increasing')"
      ]
     },
     "execution_count": 82,
     "metadata": {},
     "output_type": "execute_result"
    }
   ],
   "source": [
    "import statsmodels.stats.api as sms\n",
    "name=['F-statistic','p-value']\n",
    "test=sms.het_goldfeldquandt(lin_reg.resid,lin_reg.model.exog)\n",
    "\n",
    "test"
   ]
  },
  {
   "cell_type": "markdown",
   "id": "055e47e7",
   "metadata": {},
   "source": [
    "If the p-value falls below a certain threshold, like 0.05, we should accept heteroscedasticity over the null.\n",
    "\n",
    "Assumption 5- NO MULTI COLLINEARITY: The following is an interpretation of VIF: The square root of a variable's VIF indicates how much higher the standard error is when compared to what it would be if that predictor were uncorrelated with the model's other features. All of the values for VIF will be one if there are no correlated features."
   ]
  },
  {
   "cell_type": "code",
   "execution_count": 83,
   "id": "35f19c05",
   "metadata": {},
   "outputs": [
    {
     "data": {
      "text/html": [
       "<div>\n",
       "<style scoped>\n",
       "    .dataframe tbody tr th:only-of-type {\n",
       "        vertical-align: middle;\n",
       "    }\n",
       "\n",
       "    .dataframe tbody tr th {\n",
       "        vertical-align: top;\n",
       "    }\n",
       "\n",
       "    .dataframe thead th {\n",
       "        text-align: right;\n",
       "    }\n",
       "</style>\n",
       "<table border=\"1\" class=\"dataframe\">\n",
       "  <thead>\n",
       "    <tr style=\"text-align: right;\">\n",
       "      <th></th>\n",
       "      <th>vif</th>\n",
       "    </tr>\n",
       "  </thead>\n",
       "  <tbody>\n",
       "    <tr>\n",
       "      <th>Income</th>\n",
       "      <td>3.183923</td>\n",
       "    </tr>\n",
       "    <tr>\n",
       "      <th>Monthly Premium Auto</th>\n",
       "      <td>27.569851</td>\n",
       "    </tr>\n",
       "    <tr>\n",
       "      <th>Months Since Last Claim</th>\n",
       "      <td>1.009934</td>\n",
       "    </tr>\n",
       "    <tr>\n",
       "      <th>Months Since Policy Inception</th>\n",
       "      <td>1.022048</td>\n",
       "    </tr>\n",
       "    <tr>\n",
       "      <th>Total Claim Amount</th>\n",
       "      <td>4.396905</td>\n",
       "    </tr>\n",
       "    <tr>\n",
       "      <th>Number of Open Complaints</th>\n",
       "      <td>1.009196</td>\n",
       "    </tr>\n",
       "    <tr>\n",
       "      <th>Number of Policies</th>\n",
       "      <td>1.019460</td>\n",
       "    </tr>\n",
       "    <tr>\n",
       "      <th>State_California</th>\n",
       "      <td>1.878492</td>\n",
       "    </tr>\n",
       "    <tr>\n",
       "      <th>State_Nevada</th>\n",
       "      <td>1.378696</td>\n",
       "    </tr>\n",
       "    <tr>\n",
       "      <th>State_Oregon</th>\n",
       "      <td>1.813907</td>\n",
       "    </tr>\n",
       "    <tr>\n",
       "      <th>State_Washington</th>\n",
       "      <td>1.346631</td>\n",
       "    </tr>\n",
       "    <tr>\n",
       "      <th>Response_Yes</th>\n",
       "      <td>1.223327</td>\n",
       "    </tr>\n",
       "    <tr>\n",
       "      <th>Coverage_Extended</th>\n",
       "      <td>3.025019</td>\n",
       "    </tr>\n",
       "    <tr>\n",
       "      <th>Coverage_Premium</th>\n",
       "      <td>5.293859</td>\n",
       "    </tr>\n",
       "    <tr>\n",
       "      <th>Education_College</th>\n",
       "      <td>1.408609</td>\n",
       "    </tr>\n",
       "    <tr>\n",
       "      <th>Education_Doctor</th>\n",
       "      <td>1.100259</td>\n",
       "    </tr>\n",
       "    <tr>\n",
       "      <th>Education_High School or Below</th>\n",
       "      <td>1.426087</td>\n",
       "    </tr>\n",
       "    <tr>\n",
       "      <th>Education_Master</th>\n",
       "      <td>1.193819</td>\n",
       "    </tr>\n",
       "    <tr>\n",
       "      <th>EmploymentStatus_Employed</th>\n",
       "      <td>6.832471</td>\n",
       "    </tr>\n",
       "    <tr>\n",
       "      <th>EmploymentStatus_Medical Leave</th>\n",
       "      <td>1.986035</td>\n",
       "    </tr>\n",
       "    <tr>\n",
       "      <th>EmploymentStatus_Retired</th>\n",
       "      <td>1.752228</td>\n",
       "    </tr>\n",
       "    <tr>\n",
       "      <th>EmploymentStatus_Unemployed</th>\n",
       "      <td>5.610118</td>\n",
       "    </tr>\n",
       "    <tr>\n",
       "      <th>Gender_M</th>\n",
       "      <td>1.023864</td>\n",
       "    </tr>\n",
       "    <tr>\n",
       "      <th>Location Code_Suburban</th>\n",
       "      <td>3.735429</td>\n",
       "    </tr>\n",
       "    <tr>\n",
       "      <th>Location Code_Urban</th>\n",
       "      <td>1.933874</td>\n",
       "    </tr>\n",
       "    <tr>\n",
       "      <th>Marital Status_Married</th>\n",
       "      <td>2.141867</td>\n",
       "    </tr>\n",
       "    <tr>\n",
       "      <th>Marital Status_Single</th>\n",
       "      <td>2.327253</td>\n",
       "    </tr>\n",
       "    <tr>\n",
       "      <th>Policy Type_Personal Auto</th>\n",
       "      <td>inf</td>\n",
       "    </tr>\n",
       "    <tr>\n",
       "      <th>Policy Type_Special Auto</th>\n",
       "      <td>inf</td>\n",
       "    </tr>\n",
       "    <tr>\n",
       "      <th>Policy_Corporate L2</th>\n",
       "      <td>2.495167</td>\n",
       "    </tr>\n",
       "    <tr>\n",
       "      <th>Policy_Corporate L3</th>\n",
       "      <td>3.414004</td>\n",
       "    </tr>\n",
       "    <tr>\n",
       "      <th>Policy_Personal L1</th>\n",
       "      <td>inf</td>\n",
       "    </tr>\n",
       "    <tr>\n",
       "      <th>Policy_Personal L2</th>\n",
       "      <td>inf</td>\n",
       "    </tr>\n",
       "    <tr>\n",
       "      <th>Policy_Personal L3</th>\n",
       "      <td>inf</td>\n",
       "    </tr>\n",
       "    <tr>\n",
       "      <th>Policy_Special L1</th>\n",
       "      <td>inf</td>\n",
       "    </tr>\n",
       "    <tr>\n",
       "      <th>Policy_Special L2</th>\n",
       "      <td>inf</td>\n",
       "    </tr>\n",
       "    <tr>\n",
       "      <th>Policy_Special L3</th>\n",
       "      <td>inf</td>\n",
       "    </tr>\n",
       "    <tr>\n",
       "      <th>Renew Offer Type_Offer2</th>\n",
       "      <td>1.379520</td>\n",
       "    </tr>\n",
       "    <tr>\n",
       "      <th>Renew Offer Type_Offer3</th>\n",
       "      <td>1.228733</td>\n",
       "    </tr>\n",
       "    <tr>\n",
       "      <th>Renew Offer Type_Offer4</th>\n",
       "      <td>1.255994</td>\n",
       "    </tr>\n",
       "    <tr>\n",
       "      <th>Sales Channel_Branch</th>\n",
       "      <td>1.271889</td>\n",
       "    </tr>\n",
       "    <tr>\n",
       "      <th>Sales Channel_Call Center</th>\n",
       "      <td>1.252330</td>\n",
       "    </tr>\n",
       "    <tr>\n",
       "      <th>Sales Channel_Web</th>\n",
       "      <td>1.220698</td>\n",
       "    </tr>\n",
       "    <tr>\n",
       "      <th>Vehicle Class_Luxury Car</th>\n",
       "      <td>7.781484</td>\n",
       "    </tr>\n",
       "    <tr>\n",
       "      <th>Vehicle Class_Luxury SUV</th>\n",
       "      <td>8.611290</td>\n",
       "    </tr>\n",
       "    <tr>\n",
       "      <th>Vehicle Class_SUV</th>\n",
       "      <td>7.645435</td>\n",
       "    </tr>\n",
       "    <tr>\n",
       "      <th>Vehicle Class_Sports Car</th>\n",
       "      <td>3.220140</td>\n",
       "    </tr>\n",
       "    <tr>\n",
       "      <th>Vehicle Class_Two-Door Car</th>\n",
       "      <td>1.124315</td>\n",
       "    </tr>\n",
       "    <tr>\n",
       "      <th>Vehicle Size_Medsize</th>\n",
       "      <td>2.334500</td>\n",
       "    </tr>\n",
       "    <tr>\n",
       "      <th>Vehicle Size_Small</th>\n",
       "      <td>2.360275</td>\n",
       "    </tr>\n",
       "  </tbody>\n",
       "</table>\n",
       "</div>"
      ],
      "text/plain": [
       "                                      vif\n",
       "Income                           3.183923\n",
       "Monthly Premium Auto            27.569851\n",
       "Months Since Last Claim          1.009934\n",
       "Months Since Policy Inception    1.022048\n",
       "Total Claim Amount               4.396905\n",
       "Number of Open Complaints        1.009196\n",
       "Number of Policies               1.019460\n",
       "State_California                 1.878492\n",
       "State_Nevada                     1.378696\n",
       "State_Oregon                     1.813907\n",
       "State_Washington                 1.346631\n",
       "Response_Yes                     1.223327\n",
       "Coverage_Extended                3.025019\n",
       "Coverage_Premium                 5.293859\n",
       "Education_College                1.408609\n",
       "Education_Doctor                 1.100259\n",
       "Education_High School or Below   1.426087\n",
       "Education_Master                 1.193819\n",
       "EmploymentStatus_Employed        6.832471\n",
       "EmploymentStatus_Medical Leave   1.986035\n",
       "EmploymentStatus_Retired         1.752228\n",
       "EmploymentStatus_Unemployed      5.610118\n",
       "Gender_M                         1.023864\n",
       "Location Code_Suburban           3.735429\n",
       "Location Code_Urban              1.933874\n",
       "Marital Status_Married           2.141867\n",
       "Marital Status_Single            2.327253\n",
       "Policy Type_Personal Auto             inf\n",
       "Policy Type_Special Auto              inf\n",
       "Policy_Corporate L2              2.495167\n",
       "Policy_Corporate L3              3.414004\n",
       "Policy_Personal L1                    inf\n",
       "Policy_Personal L2                    inf\n",
       "Policy_Personal L3                    inf\n",
       "Policy_Special L1                     inf\n",
       "Policy_Special L2                     inf\n",
       "Policy_Special L3                     inf\n",
       "Renew Offer Type_Offer2          1.379520\n",
       "Renew Offer Type_Offer3          1.228733\n",
       "Renew Offer Type_Offer4          1.255994\n",
       "Sales Channel_Branch             1.271889\n",
       "Sales Channel_Call Center        1.252330\n",
       "Sales Channel_Web                1.220698\n",
       "Vehicle Class_Luxury Car         7.781484\n",
       "Vehicle Class_Luxury SUV         8.611290\n",
       "Vehicle Class_SUV                7.645435\n",
       "Vehicle Class_Sports Car         3.220140\n",
       "Vehicle Class_Two-Door Car       1.124315\n",
       "Vehicle Size_Medsize             2.334500\n",
       "Vehicle Size_Small               2.360275"
      ]
     },
     "execution_count": 83,
     "metadata": {},
     "output_type": "execute_result"
    }
   ],
   "source": [
    "from statsmodels.stats.outliers_influence import variance_inflation_factor\n",
    "vif = [variance_inflation_factor(X_constant.values, i) for i in range(X_constant.shape[1])]\n",
    "pd.DataFrame({'vif': vif[1:]}, index=X.columns)"
   ]
  },
  {
   "cell_type": "markdown",
   "id": "9911f895",
   "metadata": {},
   "source": [
    "We can see that the column Policy and the type of policy have a high VIF. Additionally, we know from the statistical approach that these veriables are not significant for predicting target, so we can eliminate them from the above two conclusions."
   ]
  },
  {
   "cell_type": "code",
   "execution_count": 84,
   "id": "33fd0bd1",
   "metadata": {},
   "outputs": [],
   "source": [
    "from sklearn.model_selection import train_test_split\n",
    "X=dfn.drop(['CLV','Policy Type_Personal Auto','Policy Type_Special Auto','Policy_Personal L1','Policy_Personal L2','Policy_Personal L3',\n",
    "'Policy_Special L1','Policy_Special L2','Policy_Special L3'],axis=1)\n",
    "y=dfn['CLV']          \n",
    "y =np.log(y)\n",
    "X_train,X_test,y_train,y_test=train_test_split(X,y,test_size=0.30,random_state=42)"
   ]
  },
  {
   "cell_type": "code",
   "execution_count": 85,
   "id": "4f75822c",
   "metadata": {},
   "outputs": [
    {
     "name": "stdout",
     "output_type": "stream",
     "text": [
      "(6393, 42)\n",
      "(6393,)\n",
      "(2741, 42)\n",
      "(2741,)\n"
     ]
    }
   ],
   "source": [
    "numerical_cols.rename(columns={'CLV':'CLV'},inplace=True)\n",
    "print(X_train.shape)\n",
    "print(y_train.shape)\n",
    "print(X_test.shape)\n",
    "print(y_test.shape)"
   ]
  },
  {
   "cell_type": "markdown",
   "id": "dfd2bbb6",
   "metadata": {},
   "source": [
    "# Model Building"
   ]
  },
  {
   "cell_type": "markdown",
   "id": "fde8f58d",
   "metadata": {},
   "source": [
    "# Linear Regression"
   ]
  },
  {
   "cell_type": "code",
   "execution_count": 87,
   "id": "2ddbce60",
   "metadata": {},
   "outputs": [
    {
     "name": "stdout",
     "output_type": "stream",
     "text": [
      "R^2 score for train: 0.26073373730563176\n",
      "R^2 score for test: 0.2548416026499797\n"
     ]
    }
   ],
   "source": [
    "from sklearn.linear_model import LinearRegression\n",
    "lr = LinearRegression()\n",
    "model = lr.fit(X_train,y_train)\n",
    "print(f'R^2 score for train: {lr.score(X_train, y_train)}')\n",
    "print(f'R^2 score for test: {lr.score(X_test, y_test)}')"
   ]
  },
  {
   "cell_type": "code",
   "execution_count": 88,
   "id": "0a6584f5",
   "metadata": {},
   "outputs": [],
   "source": [
    "y_pred = model.predict(X_test)"
   ]
  },
  {
   "cell_type": "code",
   "execution_count": 89,
   "id": "ac5f913e",
   "metadata": {},
   "outputs": [
    {
     "name": "stdout",
     "output_type": "stream",
     "text": [
      "RMSE: 0.5772314153487259\n",
      "MAE 0.44550332822708716\n",
      "R-squared: 0.2548416026499797\n"
     ]
    }
   ],
   "source": [
    "from sklearn.metrics import mean_squared_error,r2_score,mean_absolute_error\n",
    "print('RMSE:',np.sqrt(mean_squared_error(y_test,y_pred)))\n",
    "print(\"MAE\",mean_absolute_error(y_test,y_pred))\n",
    "print('R-squared:',r2_score(y_test,y_pred)) "
   ]
  },
  {
   "cell_type": "code",
   "execution_count": 90,
   "id": "09dbfce8",
   "metadata": {},
   "outputs": [
    {
     "name": "stdout",
     "output_type": "stream",
     "text": [
      "['Monthly Premium Auto', 'Number of Open Complaints', 'Number of Policies', 'Coverage_Extended', 'Coverage_Premium', 'Education_High School or Below', 'EmploymentStatus_Employed', 'Marital Status_Single', 'Policy_Corporate L2', 'Renew Offer Type_Offer2', 'Renew Offer Type_Offer3', 'Renew Offer Type_Offer4', 'Vehicle Class_SUV', 'Vehicle Class_Sports Car']\n"
     ]
    }
   ],
   "source": [
    "#Feature Selection by Recursive Backward Elimination\n",
    "cols = list(X.columns)\n",
    "pmax = 1\n",
    "while (len(cols)>0):\n",
    "    p= []\n",
    "    X = X[cols]\n",
    "    Xc = sm.add_constant(X)\n",
    "    model = sm.OLS(y,Xc).fit()\n",
    "    p = pd.Series(model.pvalues.values[1:],index = cols)      \n",
    "    pmax = max(p)\n",
    "    feature_with_p_max = p.idxmax()\n",
    "    if(pmax>0.05):\n",
    "        cols.remove(feature_with_p_max)\n",
    "    else:\n",
    "        break\n",
    "selected_features = cols\n",
    "print(selected_features)"
   ]
  },
  {
   "cell_type": "code",
   "execution_count": 91,
   "id": "d7ea3c73",
   "metadata": {},
   "outputs": [],
   "source": [
    "X_new = X[['Monthly Premium Auto', 'Number of Open Complaints', 'Number of Policies', 'Coverage_Extended', 'Coverage_Premium', 'Education_High School or Below', 'EmploymentStatus_Employed', 'Marital Status_Single', 'Policy_Corporate L2', 'Renew Offer Type_Offer2', 'Renew Offer Type_Offer3', 'Renew Offer Type_Offer4', 'Vehicle Class_SUV', 'Vehicle Class_Sports Car']]"
   ]
  },
  {
   "cell_type": "code",
   "execution_count": 92,
   "id": "cf6cbb76",
   "metadata": {},
   "outputs": [
    {
     "data": {
      "text/html": [
       "<table class=\"simpletable\">\n",
       "<caption>OLS Regression Results</caption>\n",
       "<tr>\n",
       "  <th>Dep. Variable:</th>           <td>CLV</td>       <th>  R-squared:         </th> <td>   0.259</td> \n",
       "</tr>\n",
       "<tr>\n",
       "  <th>Model:</th>                   <td>OLS</td>       <th>  Adj. R-squared:    </th> <td>   0.258</td> \n",
       "</tr>\n",
       "<tr>\n",
       "  <th>Method:</th>             <td>Least Squares</td>  <th>  F-statistic:       </th> <td>   228.2</td> \n",
       "</tr>\n",
       "<tr>\n",
       "  <th>Date:</th>             <td>Wed, 21 Jun 2023</td> <th>  Prob (F-statistic):</th>  <td>  0.00</td>  \n",
       "</tr>\n",
       "<tr>\n",
       "  <th>Time:</th>                 <td>19:33:36</td>     <th>  Log-Likelihood:    </th> <td> -7694.3</td> \n",
       "</tr>\n",
       "<tr>\n",
       "  <th>No. Observations:</th>      <td>  9134</td>      <th>  AIC:               </th> <td>1.542e+04</td>\n",
       "</tr>\n",
       "<tr>\n",
       "  <th>Df Residuals:</th>          <td>  9119</td>      <th>  BIC:               </th> <td>1.553e+04</td>\n",
       "</tr>\n",
       "<tr>\n",
       "  <th>Df Model:</th>              <td>    14</td>      <th>                     </th>     <td> </td>    \n",
       "</tr>\n",
       "<tr>\n",
       "  <th>Covariance Type:</th>      <td>nonrobust</td>    <th>                     </th>     <td> </td>    \n",
       "</tr>\n",
       "</table>\n",
       "<table class=\"simpletable\">\n",
       "<tr>\n",
       "                 <td></td>                   <th>coef</th>     <th>std err</th>      <th>t</th>      <th>P>|t|</th>  <th>[0.025</th>    <th>0.975]</th>  \n",
       "</tr>\n",
       "<tr>\n",
       "  <th>const</th>                          <td>    7.9001</td> <td>    0.024</td> <td>  333.289</td> <td> 0.000</td> <td>    7.854</td> <td>    7.947</td>\n",
       "</tr>\n",
       "<tr>\n",
       "  <th>Monthly Premium Auto</th>           <td>    0.0070</td> <td>    0.000</td> <td>   30.864</td> <td> 0.000</td> <td>    0.007</td> <td>    0.007</td>\n",
       "</tr>\n",
       "<tr>\n",
       "  <th>Number of Open Complaints</th>      <td>   -0.0317</td> <td>    0.006</td> <td>   -4.895</td> <td> 0.000</td> <td>   -0.044</td> <td>   -0.019</td>\n",
       "</tr>\n",
       "<tr>\n",
       "  <th>Number of Policies</th>             <td>    0.0529</td> <td>    0.002</td> <td>   21.385</td> <td> 0.000</td> <td>    0.048</td> <td>    0.058</td>\n",
       "</tr>\n",
       "<tr>\n",
       "  <th>Coverage_Extended</th>              <td>    0.0669</td> <td>    0.014</td> <td>    4.773</td> <td> 0.000</td> <td>    0.039</td> <td>    0.094</td>\n",
       "</tr>\n",
       "<tr>\n",
       "  <th>Coverage_Premium</th>               <td>    0.0898</td> <td>    0.024</td> <td>    3.729</td> <td> 0.000</td> <td>    0.043</td> <td>    0.137</td>\n",
       "</tr>\n",
       "<tr>\n",
       "  <th>Education_High School or Below</th> <td>    0.0336</td> <td>    0.013</td> <td>    2.567</td> <td> 0.010</td> <td>    0.008</td> <td>    0.059</td>\n",
       "</tr>\n",
       "<tr>\n",
       "  <th>EmploymentStatus_Employed</th>      <td>    0.0922</td> <td>    0.013</td> <td>    7.093</td> <td> 0.000</td> <td>    0.067</td> <td>    0.118</td>\n",
       "</tr>\n",
       "<tr>\n",
       "  <th>Marital Status_Single</th>          <td>   -0.0506</td> <td>    0.014</td> <td>   -3.622</td> <td> 0.000</td> <td>   -0.078</td> <td>   -0.023</td>\n",
       "</tr>\n",
       "<tr>\n",
       "  <th>Policy_Corporate L2</th>            <td>   -0.0548</td> <td>    0.024</td> <td>   -2.295</td> <td> 0.022</td> <td>   -0.102</td> <td>   -0.008</td>\n",
       "</tr>\n",
       "<tr>\n",
       "  <th>Renew Offer Type_Offer2</th>        <td>   -0.1199</td> <td>    0.014</td> <td>   -8.370</td> <td> 0.000</td> <td>   -0.148</td> <td>   -0.092</td>\n",
       "</tr>\n",
       "<tr>\n",
       "  <th>Renew Offer Type_Offer3</th>        <td>   -0.0602</td> <td>    0.018</td> <td>   -3.416</td> <td> 0.001</td> <td>   -0.095</td> <td>   -0.026</td>\n",
       "</tr>\n",
       "<tr>\n",
       "  <th>Renew Offer Type_Offer4</th>        <td>   -0.1327</td> <td>    0.020</td> <td>   -6.541</td> <td> 0.000</td> <td>   -0.172</td> <td>   -0.093</td>\n",
       "</tr>\n",
       "<tr>\n",
       "  <th>Vehicle Class_SUV</th>              <td>    0.1502</td> <td>    0.017</td> <td>    8.777</td> <td> 0.000</td> <td>    0.117</td> <td>    0.184</td>\n",
       "</tr>\n",
       "<tr>\n",
       "  <th>Vehicle Class_Sports Car</th>       <td>    0.1510</td> <td>    0.028</td> <td>    5.429</td> <td> 0.000</td> <td>    0.096</td> <td>    0.205</td>\n",
       "</tr>\n",
       "</table>\n",
       "<table class=\"simpletable\">\n",
       "<tr>\n",
       "  <th>Omnibus:</th>       <td>1476.101</td> <th>  Durbin-Watson:     </th> <td>   2.019</td>\n",
       "</tr>\n",
       "<tr>\n",
       "  <th>Prob(Omnibus):</th>  <td> 0.000</td>  <th>  Jarque-Bera (JB):  </th> <td>2293.969</td>\n",
       "</tr>\n",
       "<tr>\n",
       "  <th>Skew:</th>           <td> 1.163</td>  <th>  Prob(JB):          </th> <td>    0.00</td>\n",
       "</tr>\n",
       "<tr>\n",
       "  <th>Kurtosis:</th>       <td> 3.788</td>  <th>  Cond. No.          </th> <td>    516.</td>\n",
       "</tr>\n",
       "</table><br/><br/>Notes:<br/>[1] Standard Errors assume that the covariance matrix of the errors is correctly specified."
      ],
      "text/plain": [
       "<class 'statsmodels.iolib.summary.Summary'>\n",
       "\"\"\"\n",
       "                            OLS Regression Results                            \n",
       "==============================================================================\n",
       "Dep. Variable:                    CLV   R-squared:                       0.259\n",
       "Model:                            OLS   Adj. R-squared:                  0.258\n",
       "Method:                 Least Squares   F-statistic:                     228.2\n",
       "Date:                Wed, 21 Jun 2023   Prob (F-statistic):               0.00\n",
       "Time:                        19:33:36   Log-Likelihood:                -7694.3\n",
       "No. Observations:                9134   AIC:                         1.542e+04\n",
       "Df Residuals:                    9119   BIC:                         1.553e+04\n",
       "Df Model:                          14                                         \n",
       "Covariance Type:            nonrobust                                         \n",
       "==================================================================================================\n",
       "                                     coef    std err          t      P>|t|      [0.025      0.975]\n",
       "--------------------------------------------------------------------------------------------------\n",
       "const                              7.9001      0.024    333.289      0.000       7.854       7.947\n",
       "Monthly Premium Auto               0.0070      0.000     30.864      0.000       0.007       0.007\n",
       "Number of Open Complaints         -0.0317      0.006     -4.895      0.000      -0.044      -0.019\n",
       "Number of Policies                 0.0529      0.002     21.385      0.000       0.048       0.058\n",
       "Coverage_Extended                  0.0669      0.014      4.773      0.000       0.039       0.094\n",
       "Coverage_Premium                   0.0898      0.024      3.729      0.000       0.043       0.137\n",
       "Education_High School or Below     0.0336      0.013      2.567      0.010       0.008       0.059\n",
       "EmploymentStatus_Employed          0.0922      0.013      7.093      0.000       0.067       0.118\n",
       "Marital Status_Single             -0.0506      0.014     -3.622      0.000      -0.078      -0.023\n",
       "Policy_Corporate L2               -0.0548      0.024     -2.295      0.022      -0.102      -0.008\n",
       "Renew Offer Type_Offer2           -0.1199      0.014     -8.370      0.000      -0.148      -0.092\n",
       "Renew Offer Type_Offer3           -0.0602      0.018     -3.416      0.001      -0.095      -0.026\n",
       "Renew Offer Type_Offer4           -0.1327      0.020     -6.541      0.000      -0.172      -0.093\n",
       "Vehicle Class_SUV                  0.1502      0.017      8.777      0.000       0.117       0.184\n",
       "Vehicle Class_Sports Car           0.1510      0.028      5.429      0.000       0.096       0.205\n",
       "==============================================================================\n",
       "Omnibus:                     1476.101   Durbin-Watson:                   2.019\n",
       "Prob(Omnibus):                  0.000   Jarque-Bera (JB):             2293.969\n",
       "Skew:                           1.163   Prob(JB):                         0.00\n",
       "Kurtosis:                       3.788   Cond. No.                         516.\n",
       "==============================================================================\n",
       "\n",
       "Notes:\n",
       "[1] Standard Errors assume that the covariance matrix of the errors is correctly specified.\n",
       "\"\"\""
      ]
     },
     "execution_count": 92,
     "metadata": {},
     "output_type": "execute_result"
    }
   ],
   "source": [
    "X_constant_new=sm.add_constant(X_new)\n",
    "lin_reg=sm.OLS(y,X_constant_new).fit()\n",
    "lin_reg.summary()"
   ]
  },
  {
   "cell_type": "markdown",
   "id": "8a36b870",
   "metadata": {},
   "source": [
    "# Rigde and Lasso Regression"
   ]
  },
  {
   "cell_type": "code",
   "execution_count": 93,
   "id": "f7e1309f",
   "metadata": {},
   "outputs": [
    {
     "name": "stdout",
     "output_type": "stream",
     "text": [
      "Ridge Regression\n",
      "RMSE: 0.5775916080118745\n",
      "R-squared: 0.25391135415166965\n"
     ]
    }
   ],
   "source": [
    "from sklearn.linear_model import Ridge, Lasso\n",
    "ridge=Ridge(alpha=0.1,normalize=True)\n",
    "ridge.fit(X_train,y_train)\n",
    "print('Ridge Regression')\n",
    "y_pred = ridge.predict(X_test)\n",
    "print('RMSE:', np.sqrt(mean_squared_error(y_test, y_pred)))\n",
    "print('R-squared:',r2_score(y_test,y_pred)) "
   ]
  },
  {
   "cell_type": "code",
   "execution_count": 94,
   "id": "22d0e45e",
   "metadata": {},
   "outputs": [
    {
     "name": "stdout",
     "output_type": "stream",
     "text": [
      "Ridge Regression\n",
      "RMSE: 0.5925342452447083\n",
      "R-squared: 0.21480849536090862\n"
     ]
    }
   ],
   "source": [
    "ridge=Ridge(alpha=1.0,normalize=True)\n",
    "ridge.fit(X_train,y_train)\n",
    "print('Ridge Regression')\n",
    "y_pred = ridge.predict(X_test)\n",
    "print('RMSE:', np.sqrt(mean_squared_error(y_test, y_pred)))\n",
    "print('R-squared:',r2_score(y_test,y_pred)) "
   ]
  },
  {
   "cell_type": "code",
   "execution_count": 95,
   "id": "dd946289",
   "metadata": {},
   "outputs": [
    {
     "name": "stdout",
     "output_type": "stream",
     "text": [
      "Ridge Regression\n",
      "RMSE: 0.5992937645386806\n",
      "R-squared: 0.19679167777854611\n"
     ]
    }
   ],
   "source": [
    "lasso = Lasso(random_state=1)\n",
    "lasso.fit(X_train,y_train)\n",
    "print('Ridge Regression')\n",
    "y_pred = lasso.predict(X_test)\n",
    "print('RMSE:', np.sqrt(mean_squared_error(y_test, y_pred)))\n",
    "print('R-squared:',r2_score(y_test,y_pred)) "
   ]
  },
  {
   "cell_type": "markdown",
   "id": "00c2cc85",
   "metadata": {},
   "source": [
    "# Decision Tree"
   ]
  },
  {
   "cell_type": "code",
   "execution_count": 96,
   "id": "64af9f76",
   "metadata": {},
   "outputs": [],
   "source": [
    "from sklearn.tree import DecisionTreeRegressor"
   ]
  },
  {
   "cell_type": "code",
   "execution_count": 97,
   "id": "f17a439b",
   "metadata": {},
   "outputs": [
    {
     "name": "stdout",
     "output_type": "stream",
     "text": [
      "RMSE: 0.2636910150910177\n",
      "MAE 0.10343505564943467\n",
      "R-squared: 0.8444967945595979\n"
     ]
    }
   ],
   "source": [
    "dt = DecisionTreeRegressor(random_state=1)\n",
    "\n",
    "dt.fit(X_train,y_train)\n",
    "y_pred=dt.predict(X_test)\n",
    "print('RMSE:',np.sqrt(mean_squared_error(y_test,y_pred)))\n",
    "print(\"MAE\",mean_absolute_error(y_test,y_pred))\n",
    "print('R-squared:',r2_score(y_test,y_pred))"
   ]
  },
  {
   "cell_type": "code",
   "execution_count": 98,
   "id": "ad00a35b",
   "metadata": {},
   "outputs": [],
   "source": [
    "from sklearn.model_selection import train_test_split\n",
    "X=dfn.drop(['CLV','Policy Type_Personal Auto','Policy Type_Special Auto','Policy_Personal L1','Policy_Personal L2','Policy_Personal L3',\n",
    "'Policy_Special L1','Policy_Special L2','Policy_Special L3'],axis=1)\n",
    "y=np.log(dfn['CLV'])         \n",
    "X_train,X_test,y_train,y_test=train_test_split(X,y,test_size=0.30,random_state=42)"
   ]
  },
  {
   "cell_type": "markdown",
   "id": "2b667bbb",
   "metadata": {},
   "source": [
    "# RandomForest"
   ]
  },
  {
   "cell_type": "code",
   "execution_count": 99,
   "id": "1f6309da",
   "metadata": {},
   "outputs": [],
   "source": [
    "from sklearn.ensemble import RandomForestRegressor"
   ]
  },
  {
   "cell_type": "code",
   "execution_count": 100,
   "id": "2d5a513b",
   "metadata": {},
   "outputs": [
    {
     "name": "stdout",
     "output_type": "stream",
     "text": [
      "RMSE: 0.1961521558772452\n",
      "MAE 0.08885672071039409\n",
      "R-squared: 0.9139531744119158\n"
     ]
    }
   ],
   "source": [
    "rf = RandomForestRegressor(random_state=1)\n",
    "\n",
    "rf.fit(X_train,y_train)\n",
    "\n",
    "y_pred=rf.predict(X_test)\n",
    "print('RMSE:',np.sqrt(mean_squared_error(y_test,y_pred)))\n",
    "print(\"MAE\",mean_absolute_error(y_test,y_pred))\n",
    "print('R-squared:',r2_score(y_test,y_pred)) "
   ]
  },
  {
   "cell_type": "markdown",
   "id": "e89dc5fb",
   "metadata": {},
   "source": [
    "# Hyperparameter tuning of random forest"
   ]
  },
  {
   "cell_type": "code",
   "execution_count": 101,
   "id": "33bbe244",
   "metadata": {},
   "outputs": [
    {
     "data": {
      "text/plain": [
       "{'bootstrap': True,\n",
       " 'max_depth': 30,\n",
       " 'max_features': 'auto',\n",
       " 'n_estimators': 200}"
      ]
     },
     "execution_count": 101,
     "metadata": {},
     "output_type": "execute_result"
    }
   ],
   "source": [
    "from sklearn.model_selection import GridSearchCV\n",
    "rf = RandomForestRegressor()\n",
    "params = {\n",
    "        'max_depth' : [10,20,30],\n",
    "        \n",
    "        'n_estimators' : [100,200,50],\n",
    "        \n",
    "        \"bootstrap\" : [True, False],\n",
    "    \n",
    "        'max_features': ['auto', 'sqrt', 'log2']\n",
    "        \n",
    "        }\n",
    "\n",
    "grid = GridSearchCV(estimator = rf, param_grid=params, cv = 5, n_jobs = -1, return_train_score = True )\n",
    "grid.fit(X,y)\n",
    "grid.best_params_"
   ]
  },
  {
   "cell_type": "code",
   "execution_count": 102,
   "id": "7e2712b9",
   "metadata": {},
   "outputs": [
    {
     "name": "stdout",
     "output_type": "stream",
     "text": [
      "RMSE: 0.19550701311555982\n",
      "MAE 0.08852086415620009\n",
      "R-squared: 0.914518258149074\n"
     ]
    }
   ],
   "source": [
    "rf = RandomForestRegressor(**grid.best_params_)\n",
    "\n",
    "rf.fit(X_train,y_train)\n",
    "\n",
    "y_pred=rf.predict(X_test)\n",
    "print('RMSE:',np.sqrt(mean_squared_error(y_test,y_pred)))\n",
    "print(\"MAE\",mean_absolute_error(y_test,y_pred))\n",
    "print('R-squared:',r2_score(y_test,y_pred))"
   ]
  },
  {
   "cell_type": "code",
   "execution_count": 103,
   "id": "062a8f9f",
   "metadata": {},
   "outputs": [
    {
     "data": {
      "text/plain": [
       "AdaBoostRegressor(base_estimator=RandomForestRegressor(criterion='mse',\n",
       "                                                       max_depth=5),\n",
       "                  n_estimators=150)"
      ]
     },
     "execution_count": 103,
     "metadata": {},
     "output_type": "execute_result"
    }
   ],
   "source": [
    "from sklearn.ensemble import AdaBoostRegressor\n",
    "adaboost = AdaBoostRegressor(\n",
    "    RandomForestRegressor(max_depth=5,criterion='mse'),\n",
    "    n_estimators=150\n",
    ")\n",
    "adaboost.fit(X_train, y_train)"
   ]
  },
  {
   "cell_type": "code",
   "execution_count": 104,
   "id": "bab17b14",
   "metadata": {},
   "outputs": [
    {
     "name": "stdout",
     "output_type": "stream",
     "text": [
      "RMSE: 0.21963005837274258\n",
      "MAE 0.13154671370539409\n",
      "R-squared: 0.8921221616259298\n"
     ]
    }
   ],
   "source": [
    "y_pred = adaboost.predict(X_test)\n",
    "print('RMSE:',np.sqrt(mean_squared_error(y_test,y_pred)))\n",
    "print(\"MAE\",mean_absolute_error(y_test,y_pred))\n",
    "print('R-squared:',r2_score(y_test,y_pred))"
   ]
  },
  {
   "cell_type": "code",
   "execution_count": 105,
   "id": "50cab9cb",
   "metadata": {},
   "outputs": [
    {
     "data": {
      "text/html": [
       "<div>\n",
       "<style scoped>\n",
       "    .dataframe tbody tr th:only-of-type {\n",
       "        vertical-align: middle;\n",
       "    }\n",
       "\n",
       "    .dataframe tbody tr th {\n",
       "        vertical-align: top;\n",
       "    }\n",
       "\n",
       "    .dataframe thead th {\n",
       "        text-align: right;\n",
       "    }\n",
       "</style>\n",
       "<table border=\"1\" class=\"dataframe\">\n",
       "  <thead>\n",
       "    <tr style=\"text-align: right;\">\n",
       "      <th></th>\n",
       "      <th>Score</th>\n",
       "    </tr>\n",
       "  </thead>\n",
       "  <tbody>\n",
       "    <tr>\n",
       "      <th>Number of Policies</th>\n",
       "      <td>0.672503</td>\n",
       "    </tr>\n",
       "    <tr>\n",
       "      <th>Monthly Premium Auto</th>\n",
       "      <td>0.231646</td>\n",
       "    </tr>\n",
       "    <tr>\n",
       "      <th>Total Claim Amount</th>\n",
       "      <td>0.013938</td>\n",
       "    </tr>\n",
       "    <tr>\n",
       "      <th>Income</th>\n",
       "      <td>0.012877</td>\n",
       "    </tr>\n",
       "    <tr>\n",
       "      <th>Months Since Policy Inception</th>\n",
       "      <td>0.012589</td>\n",
       "    </tr>\n",
       "    <tr>\n",
       "      <th>Months Since Last Claim</th>\n",
       "      <td>0.012351</td>\n",
       "    </tr>\n",
       "    <tr>\n",
       "      <th>Number of Open Complaints</th>\n",
       "      <td>0.003423</td>\n",
       "    </tr>\n",
       "    <tr>\n",
       "      <th>Coverage_Extended</th>\n",
       "      <td>0.003090</td>\n",
       "    </tr>\n",
       "    <tr>\n",
       "      <th>EmploymentStatus_Employed</th>\n",
       "      <td>0.002834</td>\n",
       "    </tr>\n",
       "    <tr>\n",
       "      <th>Renew Offer Type_Offer2</th>\n",
       "      <td>0.001880</td>\n",
       "    </tr>\n",
       "  </tbody>\n",
       "</table>\n",
       "</div>"
      ],
      "text/plain": [
       "                                  Score\n",
       "Number of Policies             0.672503\n",
       "Monthly Premium Auto           0.231646\n",
       "Total Claim Amount             0.013938\n",
       "Income                         0.012877\n",
       "Months Since Policy Inception  0.012589\n",
       "Months Since Last Claim        0.012351\n",
       "Number of Open Complaints      0.003423\n",
       "Coverage_Extended              0.003090\n",
       "EmploymentStatus_Employed      0.002834\n",
       "Renew Offer Type_Offer2        0.001880"
      ]
     },
     "execution_count": 105,
     "metadata": {},
     "output_type": "execute_result"
    }
   ],
   "source": [
    "pd.DataFrame(rf.feature_importances_,index=X.columns,columns=['Score']).sort_values(\"Score\",ascending=False)[:10]"
   ]
  },
  {
   "cell_type": "code",
   "execution_count": 106,
   "id": "d8e19262",
   "metadata": {},
   "outputs": [
    {
     "data": {
      "image/png": "[encoded data removed]",
      "text/plain": [
       "<Figure size 2000x700 with 1 Axes>"
      ]
     },
     "metadata": {},
     "output_type": "display_data"
    }
   ],
   "source": [
    "pd.DataFrame(rf.feature_importances_,index=X.columns,columns=['Score']).sort_values(\"Score\",ascending=False).plot(kind='bar',figsize=(20,7))\n",
    "plt.show()"
   ]
  },
  {
   "cell_type": "markdown",
   "id": "67be141c",
   "metadata": {},
   "source": [
    "The best RMSE and R2 score came from the Random Forest Model with hyperparameter tuning using GridSearchCV.\n",
    "\n",
    "The most crucial factors in forecasting CLV are the number of policies and monthly premium.\n",
    "\n",
    "\n"
   ]
  },
  {
   "cell_type": "code",
   "execution_count": null,
   "id": "d55ef147",
   "metadata": {},
   "outputs": [],
   "source": []
  }
 ],
 "metadata": {
  "kernelspec": {
   "display_name": "Python 3 (ipykernel)",
   "language": "python",
   "name": "python3"
  },
  "language_info": {
   "codemirror_mode": {
    "name": "ipython",
    "version": 3
   },
   "file_extension": ".py",
   "mimetype": "text/x-python",
   "name": "python",
   "nbconvert_exporter": "python",
   "pygments_lexer": "ipython3",
   "version": "3.9.13"
  }
 },
 "nbformat": 4,
 "nbformat_minor": 5
}
